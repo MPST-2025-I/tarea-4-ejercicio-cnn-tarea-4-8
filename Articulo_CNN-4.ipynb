{
  "cells": [
    {
      "cell_type": "markdown",
      "metadata": {},
      "source": [
        "# CNN para Pronóstico de Series Temporales y Discusión de Artículo Científico\n",
        "\n",
        "Este notebook muestra una implementación de una Red Neuronal Convolucional (CNN) aplicada al pronóstico de series temporales sintéticas. Además, se presenta y discute un artículo científico relacionado con la aplicación de CNN en el ámbito de la predicción de la demanda eléctrica:\n",
        "\n",
        "> **Referencia**: Deng, J., Yang, G., Li, K., & Li, K. (2020). *An improved deep learning approach for short-term load forecasting with attention mechanism*. IEEE Transactions on Smart Grid, 11(2), 1427-1436.\n",
        "\n",
        "En dicho artículo, los autores investigan cómo una arquitectura basada en CNN, complementada con un mecanismo de atención, mejora el desempeño en el pronóstico de la carga eléctrica a corto plazo. El uso de la CNN permite capturar patrones locales de la serie temporal, mientras que el mecanismo de atención refuerza la relevancia de características específicas al momento de generar las predicciones. Esto se traduce en una reducción del error y en una mayor estabilidad de los pronósticos.\n",
        "\n",
        "En este notebook, se explicarán los pasos básicos para construir y entrenar una CNN para la predicción de valores futuros de una serie temporal sintética. Al final, se presentará una comparación con las conclusiones del artículo de Deng et al. (2020), resaltando las ventajas de las CNN y el potencial de complementarlas con mecanismos de atención."
      ]
    },
    {
      "cell_type": "markdown",
      "metadata": {},
      "source": [
        "## Objetivos del Notebook\n",
        "\n",
        "- Implementar una Red Neuronal Convolucional (CNN) para el pronóstico de una serie temporal sintética.\n",
        "- Evaluar el desempeño del modelo en términos de error de predicción.\n",
        "- Discutir las ventajas de usar CNN en series temporales, relacionándolo con el artículo de Deng et al. (2020)."
      ]
    },
    {
      "cell_type": "markdown",
      "metadata": {},
      "source": [
        "## Importación de Bibliotecas"
      ]
    },
    {
      "cell_type": "code",
      "metadata": {},
      "source": [
        "import numpy as np\n",
        "import matplotlib.pyplot as plt\n",
        "import tensorflow as tf\n",
        "from tensorflow.keras.models import Sequential\n",
        "from tensorflow.keras.layers import Conv1D, MaxPooling1D, Flatten, Dense\n",
        "from sklearn.model_selection import train_test_split\n",
        "from sklearn.metrics import mean_squared_error"
      ],
      "execution_count": null,
      "outputs": []
    },
    {
      "cell_type": "markdown",
      "metadata": {},
      "source": [
        "## 1. Generación de Datos Sintéticos\n",
        "\n",
        "Se genera una serie temporal a partir de una onda senoidal con ruido aleatorio, simulando datos que podrían representar un proceso periódico con variaciones propias de una señal real."
      ]
    },
    {
      "cell_type": "code",
      "metadata": {},
      "source": [
        "np.random.seed(0)\n",
        "t = np.arange(0, 100, 0.1)\n",
        "\n",
        "# Onda senoidal base\n",
        "sinusoid = np.sin(0.1 * t)\n",
        "\n",
        "# Ruido aleatorio\n",
        "noise = np.random.normal(0, 0.1, len(t))\n",
        "\n",
        "# Serie temporal final\n",
        "time_series = sinusoid + noise\n",
        "\n",
        "# Visualización de la serie\n",
        "plt.figure(figsize=(12, 5))\n",
        "plt.plot(t, time_series)\n",
        "plt.title('Serie Temporal Sintética (Seno + Ruido)')\n",
        "plt.xlabel('Tiempo')\n",
        "plt.ylabel('Valor')\n",
        "plt.grid(True)\n",
        "plt.show()"
      ],
      "execution_count": null,
      "outputs": []
    },
    {
      "cell_type": "markdown",
      "metadata": {},
      "source": [
        "## 2. Preparación de Datos\n",
        "\n",
        "Se crean muestras de longitud fija (ventanas deslizantes) para pronosticar un paso futuro. Aquí, empleamos 10 pasos históricos (n_steps=10) para predecir el siguiente valor en la serie temporal.\n",
        "\n",
        "En la práctica, es recomendable explorar enfoques como validación cruzada para series temporales o expandir esta ventana de predicción a horizontes múltiples si se requiere pronosticar más de un paso a futuro."
      ]
    },
    {
      "cell_type": "code",
      "metadata": {},
      "source": [
        "n_steps = 10\n",
        "X, y = [], []\n",
        "for i in range(len(time_series) - n_steps):\n",
        "    X.append(time_series[i:i+n_steps])\n",
        "    y.append(time_series[i+n_steps])\n",
        "\n",
        "X = np.array(X)\n",
        "X = X.reshape((X.shape[0], X.shape[1], 1))  # Conv1D espera (batch, steps, canales)\n",
        "y = np.array(y)\n",
        "\n",
        "# División en entrenamiento y prueba\n",
        "X_train, X_test, y_train, y_test = train_test_split(X, y, test_size=0.2, random_state=42)\n",
        "print(f'Forma de X_train: {X_train.shape}')\n",
        "print(f'Forma de y_train: {y_train.shape}')\n",
        "print(f'Forma de X_test : {X_test.shape}')\n",
        "print(f'Forma de y_test : {y_test.shape}')"
      ],
      "execution_count": null,
      "outputs": []
    },
    {
      "cell_type": "markdown",
      "metadata": {},
      "source": [
        "## 3. Construcción de la CNN\n",
        "\n",
        "Se emplea una arquitectura sencilla de tipo **Conv1D** + **MaxPooling1D**, seguida de capas densas para la regresión. El modelo se compila con la función de pérdida MSE y el optimizador Adam."
      ]
    },
    {
      "cell_type": "code",
      "metadata": {},
      "source": [
        "# Definición del modelo\n",
        "model = Sequential([\n",
        "    Conv1D(filters=64, kernel_size=3, activation='relu', input_shape=(n_steps, 1)),\n",
        "    MaxPooling1D(pool_size=2),\n",
        "    Flatten(),\n",
        "    Dense(50, activation='relu'),\n",
        "    Dense(1)\n",
        "])\n",
        "\n",
        "# Compilación\n",
        "model.compile(optimizer='adam', loss='mse')\n",
        "model.summary()"
      ],
      "execution_count": null,
      "outputs": []
    },
    {
      "cell_type": "markdown",
      "metadata": {},
      "source": [
        "## 4. Entrenamiento\n",
        "\n",
        "Entrenamos el modelo durante 50 épocas, guardando el registro de la pérdida de entrenamiento y validación para monitorear el progreso."
      ]
    },
    {
      "cell_type": "code",
      "metadata": {},
      "source": [
        "history = model.fit(\n",
        "    X_train,\n",
        "    y_train,\n",
        "    epochs=50,\n",
        "    batch_size=16,\n",
        "    validation_data=(X_test, y_test),\n",
        "    verbose=1\n",
        ")\n",
        "\n",
        "# Gráfica del historial de entrenamiento\n",
        "plt.figure(figsize=(12, 5))\n",
        "plt.plot(history.history['loss'], label='Pérdida de Entrenamiento')\n",
        "plt.plot(history.history['val_loss'], label='Pérdida de Validación')\n",
        "plt.title('Historial de Entrenamiento')\n",
        "plt.xlabel('Épocas')\n",
        "plt.ylabel('Pérdida (MSE)')\n",
        "plt.legend()\n",
        "plt.grid(True)\n",
        "plt.show()"
      ],
      "execution_count": null,
      "outputs": []
    },
    {
      "cell_type": "markdown",
      "metadata": {},
      "source": [
        "## 5. Evaluación del Modelo\n",
        "\n",
        "Se calcula el error en el conjunto de prueba y se comparan los valores reales con las predicciones. Como métrica se utiliza el RMSE, una de las más comunes para tareas de regresión en series temporales."
      ]
    },
    {
      "cell_type": "code",
      "metadata": {},
      "source": [
        "y_pred = model.predict(X_test)\n",
        "rmse = np.sqrt(mean_squared_error(y_test, y_pred))\n",
        "print(f'RMSE en el conjunto de prueba: {rmse:.4f}')\n",
        "\n",
        "plt.figure(figsize=(12, 5))\n",
        "plt.plot(y_test, label='Valores Reales', marker='o')\n",
        "plt.plot(y_pred, label='Predicción', marker='o')\n",
        "plt.title('Comparación: Valores Reales vs Predicción')\n",
        "plt.xlabel('Índice')\n",
        "plt.ylabel('Valor')\n",
        "plt.legend()\n",
        "plt.grid(True)\n",
        "plt.show()"
      ],
      "execution_count": null,
      "outputs": []
    },
    {
      "cell_type": "markdown",
      "metadata": {},
      "source": [
        "## 6. Pronósticos Futuros\n",
        "\n",
        "A continuación, se ejemplifica cómo realizar predicciones iterativas para 50 pasos futuros, iniciando desde la última ventana de la serie de prueba."
      ]
    },
    {
      "cell_type": "code",
      "metadata": {},
      "source": [
        "future_steps = 50\n",
        "future_predictions = []\n",
        "\n",
        "# Comenzamos con la última muestra de X_test\n",
        "last_sequence = X_test[-1].reshape(1, n_steps, 1)\n",
        "\n",
        "for _ in range(future_steps):\n",
        "    # Realiza una predicción\n",
        "    next_val = model.predict(last_sequence)[0][0]\n",
        "    future_predictions.append(next_val)\n",
        "    \n",
        "    # Desplaza la secuencia e inserta el nuevo valor pronosticado\n",
        "    last_sequence = np.roll(last_sequence, -1, axis=1)\n",
        "    last_sequence[0, -1, 0] = next_val\n",
        "\n",
        "plt.figure(figsize=(12, 5))\n",
        "plt.plot(time_series, label='Serie Original')\n",
        "plt.plot(\n",
        "    range(len(time_series), len(time_series) + future_steps), \n",
        "    future_predictions,\n",
        "    'r--', \n",
        "    label='Predicciones Futuras'\n",
        ")\n",
        "plt.title('Extensión de la Serie con Pronósticos Futuros')\n",
        "plt.xlabel('Índice')\n",
        "plt.ylabel('Valor')\n",
        "plt.legend()\n",
        "plt.grid(True)\n",
        "plt.show()"
      ],
      "execution_count": null,
      "outputs": []
    },
    {
      "cell_type": "markdown",
      "metadata": {},
      "source": [
        "## 7. Discusión del Artículo y Conclusiones\n",
        "\n",
        "### Conexión con el Artículo de Deng et al. (2020)\n",
        "\n",
        "1. **Captura de Patrones Locales con CNN**: Al igual que en la propuesta de Deng et al. (2020), la arquitectura CNN resulta útil para extraer características locales de la serie, lo que suele mejorar la precisión del pronóstico.\n",
        "2. **Importancia del Mecanismo de Atención**: El artículo demuestra que incorporar un mecanismo de atención sobre la salida de la CNN (o en capas posteriores) puede enfocar el modelo en los pasos más relevantes de la serie, reduciendo aún más el error. En este notebook no se ha implementado atención, pero su eficacia está respaldada por la literatura.\n",
        "3. **Mejor Desempeño vs. Métodos Tradicionales**: Según los resultados reportados en el artículo, la CNN con atención supera métodos tradicionales como ARIMA y ML basados en árboles de decisión, especialmente cuando la serie presenta fuertes patrones estacionales o de tendencia.\n",
        "\n",
        "### Conclusiones y Trabajo Futuro\n",
        "\n",
        "- El modelo CNN obtuvo un RMSE bajo en el conjunto de prueba, demostrando la capacidad de la convolución para capturar dependencias locales en la serie.\n",
        "- Los pronósticos futuros muestran la utilidad práctica del modelo, aunque en escenarios de la vida real se recomienda ampliar la ventana de entrenamiento y considerar arquitecturas más complejas.\n",
        "- Para mejorar la interpretabilidad y la precisión, se puede investigar la integración de mecanismos de atención (tal como propone el artículo) o el uso de enfoques híbridos (CNN + LSTM).\n",
        "- En aplicaciones reales, se aconseja usar más datos, realizar validaciones exhaustivas y evaluar diferentes horizontes de pronóstico (no solo un paso futuro).\n",
        "\n",
        "Este ejemplo y la revisión del artículo resaltan el potencial de las CNN en el pronóstico de series temporales. Siguiendo la investigación de Deng et al. (2020), futuras mejoras podrían incluir mecanismos de atención y ajustes específicos para datos reales de la industria eléctrica, donde los patrones son más complejos que en la serie sintética utilizada en este cuaderno."
      ]
    }
  ],
  "metadata": {
    "kernelspec": {
      "display_name": "Python 3",
      "language": "python",
      "name": "python3"
    },
    "language_info": {
      "name": "python",
      "version": "3.8"
    }
  },
  "nbformat": 4,
  "nbformat_minor": 4
}
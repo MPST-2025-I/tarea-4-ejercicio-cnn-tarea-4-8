{
  "cells": [
    {
      "cell_type": "code",
      "execution_count": 1,
      "metadata": {
        "id": "keBoJAg6TBh5",
        "outputId": "ea18aa82-824b-4301-e22e-dad90a7c5fc6",
        "colab": {
          "base_uri": "https://localhost:8080/",
          "height": 35
        }
      },
      "outputs": [
        {
          "output_type": "execute_result",
          "data": {
            "text/plain": [
              "'/content'"
            ],
            "application/vnd.google.colaboratory.intrinsic+json": {
              "type": "string"
            }
          },
          "metadata": {},
          "execution_count": 1
        }
      ],
      "source": [
        "pwd"
      ]
    },
    {
      "cell_type": "markdown",
      "metadata": {
        "id": "utQGkN8HTBh3"
      },
      "source": [
        "# 2. Predecir el consumo de demanda electrica en Australia\n"
      ]
    },
    {
      "cell_type": "code",
      "source": [
        "from google.colab import drive\n",
        "drive.mount('/content/drive')"
      ],
      "metadata": {
        "colab": {
          "base_uri": "https://localhost:8080/"
        },
        "id": "s0inm5FwULxF",
        "outputId": "bde39ecf-a019-4690-8516-18c348f65f53"
      },
      "execution_count": 2,
      "outputs": [
        {
          "output_type": "stream",
          "name": "stdout",
          "text": [
            "Mounted at /content/drive\n"
          ]
        }
      ]
    },
    {
      "cell_type": "code",
      "execution_count": 3,
      "metadata": {
        "id": "q9T6WYu7TBh4"
      },
      "outputs": [],
      "source": [
        "# Importar las bibliotecas necesarias\n",
        "import numpy as np\n",
        "import pandas as pd\n",
        "import matplotlib.pyplot as plt\n",
        "import seaborn as sns\n",
        "import numpy as np\n",
        "import pandas as pd\n",
        "from sklearn.model_selection import train_test_split\n",
        "from sklearn.preprocessing import StandardScaler\n",
        "import tensorflow as tf\n",
        "from tensorflow.keras.models import Sequential\n",
        "from tensorflow.keras.layers import Conv1D, MaxPooling1D, Flatten, Dense, Dropout\n",
        "from tensorflow.keras.callbacks import EarlyStopping\n",
        "from tensorflow import keras\n",
        "from keras.models import Model\n",
        "from keras.layers import concatenate\n",
        "from keras.utils import plot_model\n",
        "from keras.layers import Input"
      ]
    },
    {
      "cell_type": "code",
      "execution_count": 4,
      "metadata": {
        "colab": {
          "base_uri": "https://localhost:8080/"
        },
        "id": "hnQDFVq5TBh6",
        "outputId": "232354fc-b311-4014-b591-000f1fa7671b"
      },
      "outputs": [
        {
          "output_type": "stream",
          "name": "stdout",
          "text": [
            "['PRICE_AND_DEMAND_201802_NSW1.csv', 'PRICE_AND_DEMAND_201803_NSW1.csv', 'PRICE_AND_DEMAND_201801_NSW1.csv', 'PRICE_AND_DEMAND_201904_NSW1.csv', 'PRICE_AND_DEMAND_202009_NSW1.csv', 'PRICE_AND_DEMAND_201804_NSW1.csv', 'PRICE_AND_DEMAND_201807_NSW1.csv', 'PRICE_AND_DEMAND_202003_NSW1.csv', 'PRICE_AND_DEMAND_202002_NSW1.csv', 'PRICE_AND_DEMAND_201906_NSW1.csv', 'PRICE_AND_DEMAND_201809_NSW1.csv', 'PRICE_AND_DEMAND_202001_NSW1.csv', 'PRICE_AND_DEMAND_202004_NSW1.csv', 'PRICE_AND_DEMAND_201902_NSW1.csv', 'PRICE_AND_DEMAND_201905_NSW1.csv', 'PRICE_AND_DEMAND_201909_NSW1.csv', 'PRICE_AND_DEMAND_201908_NSW1.csv', 'PRICE_AND_DEMAND_201806_NSW1.csv', 'PRICE_AND_DEMAND_201810_NSW1.csv', 'PRICE_AND_DEMAND_201805_NSW1.csv', 'PRICE_AND_DEMAND_202007_NSW1.csv', 'PRICE_AND_DEMAND_202008_NSW1.csv', 'PRICE_AND_DEMAND_201903_NSW1.csv', 'PRICE_AND_DEMAND_202006_NSW1.csv', 'PRICE_AND_DEMAND_201901_NSW1.csv', 'PRICE_AND_DEMAND_201811_NSW1.csv', 'PRICE_AND_DEMAND_201912_NSW1.csv', 'PRICE_AND_DEMAND_201910_NSW1.csv', 'PRICE_AND_DEMAND_201812_NSW1.csv', 'PRICE_AND_DEMAND_201808_NSW1.csv', 'PRICE_AND_DEMAND_201907_NSW1.csv', 'PRICE_AND_DEMAND_201911_NSW1.csv', 'PRICE_AND_DEMAND_202005_NSW1.csv', 'PRICE_AND_DEMAND_202010_NSW1.csv', 'PRICE_AND_DEMAND_202205_NSW1.csv', 'PRICE_AND_DEMAND_202104_NSW1.csv', 'PRICE_AND_DEMAND_202204_NSW1.csv', 'PRICE_AND_DEMAND_202201_NSW1.csv', 'PRICE_AND_DEMAND_202202_NSW1.csv', 'PRICE_AND_DEMAND_202108_NSW1.csv', 'PRICE_AND_DEMAND_202102_NSW1.csv', 'PRICE_AND_DEMAND_202012_NSW1.csv', 'PRICE_AND_DEMAND_202106_NSW1.csv', 'PRICE_AND_DEMAND_202107_NSW1.csv', 'PRICE_AND_DEMAND_202101_NSW1.csv', 'PRICE_AND_DEMAND_202112_NSW1.csv', 'PRICE_AND_DEMAND_202105_NSW1.csv', 'PRICE_AND_DEMAND_202011_NSW1.csv', 'PRICE_AND_DEMAND_202203_NSW1.csv', 'PRICE_AND_DEMAND_202109_NSW1.csv', 'PRICE_AND_DEMAND_202111_NSW1.csv', 'PRICE_AND_DEMAND_202110_NSW1.csv', 'PRICE_AND_DEMAND_202103_NSW1.csv', 'PRICE_AND_DEMAND_202301_NSW1.csv', 'PRICE_AND_DEMAND_202306_NSW1.csv', 'PRICE_AND_DEMAND_202305_NSW1.csv', 'PRICE_AND_DEMAND_202302_NSW1.csv', 'PRICE_AND_DEMAND_202304_NSW1.csv', 'PRICE_AND_DEMAND_202210_NSW1.csv', 'PRICE_AND_DEMAND_202303_NSW1.csv', 'PRICE_AND_DEMAND_202209_NSW1.csv', 'PRICE_AND_DEMAND_202206_NSW1.csv', 'PRICE_AND_DEMAND_202208_NSW1.csv', 'PRICE_AND_DEMAND_202211_NSW1.csv', 'PRICE_AND_DEMAND_202207_NSW1.csv', 'PRICE_AND_DEMAND_202212_NSW1.csv']\n"
          ]
        }
      ],
      "source": [
        "# Read all the filles in the folder\n",
        "import os\n",
        "\n",
        "# List all files in the current directory\n",
        "files = os.listdir('/content/drive/MyDrive/ITESO/6-semestre/MPST/Data-Australia')\n",
        "\n",
        "# Print the list of files\n",
        "print(files)"
      ]
    },
    {
      "cell_type": "markdown",
      "source": [
        " **ingestión y unión de todos los archivos CSV** del dataset. Esta celda carga todos los archivos de la carpeta `Data-Australia`, los concatena en un único DataFrame y muestra las primeras filas y las columnas para que podamos inspeccionar la estructura de los datos (por ejemplo, identificar la columna de fecha y la de demanda)."
      ],
      "metadata": {
        "id": "HpZxhwykTQZf"
      }
    },
    {
      "cell_type": "code",
      "source": [
        "# Data Ingestion: Cargar y combinar todos los archivos CSV de la carpeta Data-Australia\n",
        "import glob\n",
        "import pandas as pd\n",
        "\n",
        "# Definir la ruta de la carpeta que contiene los CSV\n",
        "folder_path = '/content/drive/MyDrive/ITESO/6-semestre/MPST/Data-Australia'\n",
        "csv_files = glob.glob(folder_path + \"/*.csv\")\n",
        "\n",
        "# Leer cada archivo CSV y agregarlos a una lista\n",
        "list_df = []\n",
        "for file in csv_files:\n",
        "    df_temp = pd.read_csv(file)\n",
        "    list_df.append(df_temp)\n",
        "\n",
        "# Concatenar todos los DataFrames en uno solo\n",
        "df_all = pd.concat(list_df, ignore_index=True)\n",
        "\n",
        "# Mostrar las primeras filas y las columnas del DataFrame combinado\n",
        "print(\"Primeras filas del DataFrame:\")\n",
        "print(df_all.head())\n",
        "print(\"\\nColumnas del DataFrame:\")\n",
        "print(df_all.columns)"
      ],
      "metadata": {
        "colab": {
          "base_uri": "https://localhost:8080/"
        },
        "id": "oKdmsBkcTOeo",
        "outputId": "4146c063-c226-4780-e2e5-afd0e623f19d"
      },
      "execution_count": 5,
      "outputs": [
        {
          "output_type": "stream",
          "name": "stdout",
          "text": [
            "Primeras filas del DataFrame:\n",
            "  REGION       SETTLEMENTDATE  TOTALDEMAND    RRP PERIODTYPE\n",
            "0   NSW1  2018/02/01 00:30:00      6776.69  67.43      TRADE\n",
            "1   NSW1  2018/02/01 01:00:00      6640.35  59.04      TRADE\n",
            "2   NSW1  2018/02/01 01:30:00      6388.71  58.22      TRADE\n",
            "3   NSW1  2018/02/01 02:00:00      6182.54  52.54      TRADE\n",
            "4   NSW1  2018/02/01 02:30:00      6029.49  57.73      TRADE\n",
            "\n",
            "Columnas del DataFrame:\n",
            "Index(['REGION', 'SETTLEMENTDATE', 'TOTALDEMAND', 'RRP', 'PERIODTYPE'], dtype='object')\n"
          ]
        }
      ]
    },
    {
      "cell_type": "markdown",
      "source": [
        " **preprocesar la columna de fecha** y ordenar el DataFrame para que la serie temporal esté en el orden correcto. Se convierte `SETTLEMENTDATE` a tipo datetime, se ordenan los registros, se establecen índices basados en la fecha y se grafica la serie de `TOTALDEMAND`."
      ],
      "metadata": {
        "id": "4MIgkfonVTUV"
      }
    },
    {
      "cell_type": "code",
      "source": [
        "# Preprocesamiento: Conversión de SETTLEMENTDATE a datetime, ordenamiento y graficado de TOTALDEMAND\n",
        "\n",
        "# Convertir la columna SETTLEMENTDATE a datetime\n",
        "df_all['SETTLEMENTDATE'] = pd.to_datetime(df_all['SETTLEMENTDATE'], format='%Y/%m/%d %H:%M:%S')\n",
        "\n",
        "# Ordenar el DataFrame por fecha y resetear el índice\n",
        "df_all.sort_values('SETTLEMENTDATE', inplace=True)\n",
        "df_all.reset_index(drop=True, inplace=True)\n",
        "\n",
        "# Chequear valores faltantes\n",
        "print(\"Valores faltantes:\")\n",
        "print(df_all.isnull().sum())\n",
        "\n",
        "# Establecer SETTLEMENTDATE como índice para operaciones de series temporales\n",
        "df_all.set_index('SETTLEMENTDATE', inplace=True)\n",
        "\n",
        "# Mostrar descripción estadística de la demanda eléctrica\n",
        "print(\"\\nDescripción de TOTALDEMAND:\")\n",
        "print(df_all['TOTALDEMAND'].describe())\n",
        "\n",
        "# Graficar la serie temporal de TOTALDEMAND\n",
        "plt.figure(figsize=(12, 4))\n",
        "plt.plot(df_all.index, df_all['TOTALDEMAND'], label='TOTALDEMAND')\n",
        "plt.title('Serie Temporal: TOTALDEMAND')\n",
        "plt.xlabel('Fecha')\n",
        "plt.ylabel('TOTALDEMAND')\n",
        "plt.legend()\n",
        "plt.show()"
      ],
      "metadata": {
        "colab": {
          "base_uri": "https://localhost:8080/",
          "height": 722
        },
        "id": "cgRLfTEeVTkZ",
        "outputId": "e7952174-3f5f-4933-a1d6-b438d1ab07ed"
      },
      "execution_count": 6,
      "outputs": [
        {
          "output_type": "stream",
          "name": "stdout",
          "text": [
            "Valores faltantes:\n",
            "REGION            0\n",
            "SETTLEMENTDATE    0\n",
            "TOTALDEMAND       0\n",
            "RRP               0\n",
            "PERIODTYPE        0\n",
            "dtype: int64\n",
            "\n",
            "Descripción de TOTALDEMAND:\n",
            "count    248592.000000\n",
            "mean       7609.351612\n",
            "std        1270.924160\n",
            "min        3957.320000\n",
            "25%        6682.177500\n",
            "50%        7470.850000\n",
            "75%        8324.510000\n",
            "max       13700.900000\n",
            "Name: TOTALDEMAND, dtype: float64\n"
          ]
        },
        {
          "output_type": "display_data",
          "data": {
            "text/plain": [
              "<Figure size 1200x400 with 1 Axes>"
            ],
            "image/png": "[encoded data removed]"
          },
          "metadata": {}
        }
      ]
    },
    {
      "cell_type": "markdown",
      "source": [
        "Generaremos **secuencias de entrenamiento** para la CNN. Esto implica crear ventanas (lags) de tamaño fijo para predecir el valor futuro de la demanda. En este ejemplo haremos un “one-step ahead forecast” usando, por ejemplo, 48 pasos anteriores para predecir el siguiente.\n",
        "\n",
        "---"
      ],
      "metadata": {
        "id": "4g1fP_JWV8ya"
      }
    },
    {
      "cell_type": "code",
      "source": [
        "# Preparar secuencias para la CNN\n",
        "from sklearn.preprocessing import StandardScaler\n",
        "import numpy as np\n",
        "\n",
        "# 1. Seleccionar la serie a predecir\n",
        "data_series = df_all['TOTALDEMAND'].values.reshape(-1, 1)\n",
        "\n",
        "# 2. Escalado (StandardScaler)\n",
        "scaler = StandardScaler()\n",
        "data_scaled = scaler.fit_transform(data_series)\n",
        "\n",
        "# 3. Función para crear secuencias (lags)\n",
        "def create_sequences(data, n_lags=48):\n",
        "    \"\"\"\n",
        "    data: numpy array con la serie escalada\n",
        "    n_lags: número de lags (pasos anteriores) a usar como features\n",
        "    return: X, y (arrays listos para el entrenamiento)\n",
        "    \"\"\"\n",
        "    X, y = [], []\n",
        "    for i in range(n_lags, len(data)):\n",
        "        X.append(data[i-n_lags:i, 0])  # ventana de n_lags\n",
        "        y.append(data[i, 0])          # siguiente valor\n",
        "    return np.array(X), np.array(y)\n",
        "\n",
        "# 4. Crear secuencias con 48 lags\n",
        "n_lags = 48\n",
        "X, y = create_sequences(data_scaled, n_lags=n_lags)\n",
        "\n",
        "print(\"Forma de X:\", X.shape)\n",
        "print(\"Forma de y:\", y.shape)"
      ],
      "metadata": {
        "colab": {
          "base_uri": "https://localhost:8080/"
        },
        "id": "oLhHxr1jWRsP",
        "outputId": "2e609109-32cf-4735-8232-02d9f53f9f21"
      },
      "execution_count": 7,
      "outputs": [
        {
          "output_type": "stream",
          "name": "stdout",
          "text": [
            "Forma de X: (248544, 48)\n",
            "Forma de y: (248544,)\n"
          ]
        }
      ]
    },
    {
      "cell_type": "code",
      "source": [
        "# 5. Dividir en conjunto de entrenamiento, validación y prueba\n",
        "# Suponiendo 70% train, 15% val, 15% test\n",
        "train_size = int(len(X) * 0.70)\n",
        "val_size = int(len(X) * 0.15)\n",
        "\n",
        "X_train = X[:train_size]\n",
        "y_train = y[:train_size]\n",
        "\n",
        "X_val = X[train_size:train_size + val_size]\n",
        "y_val = y[train_size:train_size + val_size]\n",
        "\n",
        "X_test = X[train_size + val_size:]\n",
        "y_test = y[train_size + val_size:]\n",
        "\n",
        "# 6. Reformar X para CNN (samples, timesteps, features=1)\n",
        "X_train = X_train.reshape((X_train.shape[0], X_train.shape[1], 1))\n",
        "X_val = X_val.reshape((X_val.shape[0], X_val.shape[1], 1))\n",
        "X_test = X_test.reshape((X_test.shape[0], X_test.shape[1], 1))\n",
        "\n",
        "print(\"\\nTamaños de cada conjunto:\")\n",
        "print(\"X_train:\", X_train.shape, \"y_train:\", y_train.shape)\n",
        "print(\"X_val:\", X_val.shape, \"y_val:\", y_val.shape)\n",
        "print(\"X_test:\", X_test.shape, \"y_test:\", y_test.shape)\n"
      ],
      "metadata": {
        "colab": {
          "base_uri": "https://localhost:8080/"
        },
        "id": "oMi2VSGVWlhR",
        "outputId": "abe7dc36-379e-4064-a230-687e1bf8c058"
      },
      "execution_count": 8,
      "outputs": [
        {
          "output_type": "stream",
          "name": "stdout",
          "text": [
            "\n",
            "Tamaños de cada conjunto:\n",
            "X_train: (173980, 48, 1) y_train: (173980,)\n",
            "X_val: (37281, 48, 1) y_val: (37281,)\n",
            "X_test: (37283, 48, 1) y_test: (37283,)\n"
          ]
        }
      ]
    },
    {
      "cell_type": "markdown",
      "source": [
        "definiremos y entrenaremos la **red neuronal convolucional (CNN)** para la predicción de la demanda. Este modelo tomará como entrada las secuencias de tamaño 48 y tendrá un par de capas convolucionales/pooling, seguidas de capas densas.\n",
        "\n"
      ],
      "metadata": {
        "id": "jY8gvxk3YSw1"
      }
    },
    {
      "cell_type": "code",
      "source": [
        "# Definición y entrenamiento del modelo CNN\n",
        "from tensorflow.keras.models import Sequential\n",
        "from tensorflow.keras.layers import Conv1D, MaxPooling1D, Flatten, Dense, Dropout\n",
        "from tensorflow.keras.callbacks import EarlyStopping\n",
        "\n",
        "# 1. Construir el modelo\n",
        "model = Sequential()\n",
        "model.add(Conv1D(filters=32, kernel_size=3, activation='relu', input_shape=(n_lags, 1)))\n",
        "model.add(MaxPooling1D(pool_size=2))\n",
        "model.add(Flatten())\n",
        "model.add(Dense(64, activation='relu'))\n",
        "model.add(Dense(1))  # salida de una sola dimensión\n",
        "\n",
        "model.compile(optimizer='adam', loss='mse', metrics=['mae'])\n",
        "model.summary()\n",
        "\n",
        "# 2. Definir EarlyStopping para evitar sobreajuste\n",
        "early_stop = EarlyStopping(monitor='val_loss', patience=3, restore_best_weights=True)\n",
        "\n",
        "# 3. Entrenar\n",
        "history = model.fit(X_train, y_train,\n",
        "                    validation_data=(X_val, y_val),\n",
        "                    epochs=20,\n",
        "                    batch_size=64,\n",
        "                    callbacks=[early_stop],\n",
        "                    verbose=1)\n",
        "\n",
        "# 4. Graficar las curvas de pérdida\n",
        "plt.figure(figsize=(6, 4))\n",
        "plt.plot(history.history['loss'], label='Train Loss')\n",
        "plt.plot(history.history['val_loss'], label='Val Loss')\n",
        "plt.title('Evolución de la pérdida (MSE)')\n",
        "plt.xlabel('Épocas')\n",
        "plt.ylabel('MSE')\n",
        "plt.legend()\n",
        "plt.show()\n",
        "\n",
        "# 5. Evaluar en el conjunto de prueba\n",
        "test_mse, test_mae = model.evaluate(X_test, y_test, verbose=0)\n",
        "print(\"MSE de Test:\", test_mse)\n",
        "print(\"MAE de Test:\", test_mae)\n",
        "\n",
        "# 6. Generar predicciones\n",
        "y_pred_test = model.predict(X_test)\n",
        "\n",
        "# 7. Desescalar para ver los valores en la escala original\n",
        "y_pred_test_inv = scaler.inverse_transform(y_pred_test)\n",
        "y_test_inv = scaler.inverse_transform(y_test.reshape(-1, 1))\n",
        "\n",
        "print(\"\\nPrimeras predicciones vs. valores reales (desescalados):\")\n",
        "for i in range(5):\n",
        "    print(f\"Pred: {y_pred_test_inv[i][0]:.2f} | Real: {y_test_inv[i][0]:.2f}\")"
      ],
      "metadata": {
        "colab": {
          "base_uri": "https://localhost:8080/",
          "height": 1000
        },
        "id": "qYMISXdFYmMT",
        "outputId": "691735d6-0806-45c4-ea26-c15750ca31b0"
      },
      "execution_count": 9,
      "outputs": [
        {
          "output_type": "stream",
          "name": "stderr",
          "text": [
            "/usr/local/lib/python3.11/dist-packages/keras/src/layers/convolutional/base_conv.py:107: UserWarning: Do not pass an `input_shape`/`input_dim` argument to a layer. When using Sequential models, prefer using an `Input(shape)` object as the first layer in the model instead.\n",
            "  super().__init__(activity_regularizer=activity_regularizer, **kwargs)\n"
          ]
        },
        {
          "output_type": "display_data",
          "data": {
            "text/plain": [
              "\u001b[1mModel: \"sequential\"\u001b[0m\n"
            ],
            "text/html": [
              "<pre style=\"white-space:pre;overflow-x:auto;line-height:normal;font-family:Menlo,'DejaVu Sans Mono',consolas,'Courier New',monospace\"><span style=\"font-weight: bold\">Model: \"sequential\"</span>\n",
              "</pre>\n"
            ]
          },
          "metadata": {}
        },
        {
          "output_type": "display_data",
          "data": {
            "text/plain": [
              "┏━━━━━━━━━━━━━━━━━━━━━━━━━━━━━━━━━━━━━━┳━━━━━━━━━━━━━━━━━━━━━━━━━━━━━┳━━━━━━━━━━━━━━━━━┓\n",
              "┃\u001b[1m \u001b[0m\u001b[1mLayer (type)                        \u001b[0m\u001b[1m \u001b[0m┃\u001b[1m \u001b[0m\u001b[1mOutput Shape               \u001b[0m\u001b[1m \u001b[0m┃\u001b[1m \u001b[0m\u001b[1m        Param #\u001b[0m\u001b[1m \u001b[0m┃\n",
              "┡━━━━━━━━━━━━━━━━━━━━━━━━━━━━━━━━━━━━━━╇━━━━━━━━━━━━━━━━━━━━━━━━━━━━━╇━━━━━━━━━━━━━━━━━┩\n",
              "│ conv1d (\u001b[38;5;33mConv1D\u001b[0m)                      │ (\u001b[38;5;45mNone\u001b[0m, \u001b[38;5;34m46\u001b[0m, \u001b[38;5;34m32\u001b[0m)              │             \u001b[38;5;34m128\u001b[0m │\n",
              "├──────────────────────────────────────┼─────────────────────────────┼─────────────────┤\n",
              "│ max_pooling1d (\u001b[38;5;33mMaxPooling1D\u001b[0m)         │ (\u001b[38;5;45mNone\u001b[0m, \u001b[38;5;34m23\u001b[0m, \u001b[38;5;34m32\u001b[0m)              │               \u001b[38;5;34m0\u001b[0m │\n",
              "├──────────────────────────────────────┼─────────────────────────────┼─────────────────┤\n",
              "│ flatten (\u001b[38;5;33mFlatten\u001b[0m)                    │ (\u001b[38;5;45mNone\u001b[0m, \u001b[38;5;34m736\u001b[0m)                 │               \u001b[38;5;34m0\u001b[0m │\n",
              "├──────────────────────────────────────┼─────────────────────────────┼─────────────────┤\n",
              "│ dense (\u001b[38;5;33mDense\u001b[0m)                        │ (\u001b[38;5;45mNone\u001b[0m, \u001b[38;5;34m64\u001b[0m)                  │          \u001b[38;5;34m47,168\u001b[0m │\n",
              "├──────────────────────────────────────┼─────────────────────────────┼─────────────────┤\n",
              "│ dense_1 (\u001b[38;5;33mDense\u001b[0m)                      │ (\u001b[38;5;45mNone\u001b[0m, \u001b[38;5;34m1\u001b[0m)                   │              \u001b[38;5;34m65\u001b[0m │\n",
              "└──────────────────────────────────────┴─────────────────────────────┴─────────────────┘\n"
            ],
            "text/html": [
              "<pre style=\"white-space:pre;overflow-x:auto;line-height:normal;font-family:Menlo,'DejaVu Sans Mono',consolas,'Courier New',monospace\">┏━━━━━━━━━━━━━━━━━━━━━━━━━━━━━━━━━━━━━━┳━━━━━━━━━━━━━━━━━━━━━━━━━━━━━┳━━━━━━━━━━━━━━━━━┓\n",
              "┃<span style=\"font-weight: bold\"> Layer (type)                         </span>┃<span style=\"font-weight: bold\"> Output Shape                </span>┃<span style=\"font-weight: bold\">         Param # </span>┃\n",
              "┡━━━━━━━━━━━━━━━━━━━━━━━━━━━━━━━━━━━━━━╇━━━━━━━━━━━━━━━━━━━━━━━━━━━━━╇━━━━━━━━━━━━━━━━━┩\n",
              "│ conv1d (<span style=\"color: #0087ff; text-decoration-color: #0087ff\">Conv1D</span>)                      │ (<span style=\"color: #00d7ff; text-decoration-color: #00d7ff\">None</span>, <span style=\"color: #00af00; text-decoration-color: #00af00\">46</span>, <span style=\"color: #00af00; text-decoration-color: #00af00\">32</span>)              │             <span style=\"color: #00af00; text-decoration-color: #00af00\">128</span> │\n",
              "├──────────────────────────────────────┼─────────────────────────────┼─────────────────┤\n",
              "│ max_pooling1d (<span style=\"color: #0087ff; text-decoration-color: #0087ff\">MaxPooling1D</span>)         │ (<span style=\"color: #00d7ff; text-decoration-color: #00d7ff\">None</span>, <span style=\"color: #00af00; text-decoration-color: #00af00\">23</span>, <span style=\"color: #00af00; text-decoration-color: #00af00\">32</span>)              │               <span style=\"color: #00af00; text-decoration-color: #00af00\">0</span> │\n",
              "├──────────────────────────────────────┼─────────────────────────────┼─────────────────┤\n",
              "│ flatten (<span style=\"color: #0087ff; text-decoration-color: #0087ff\">Flatten</span>)                    │ (<span style=\"color: #00d7ff; text-decoration-color: #00d7ff\">None</span>, <span style=\"color: #00af00; text-decoration-color: #00af00\">736</span>)                 │               <span style=\"color: #00af00; text-decoration-color: #00af00\">0</span> │\n",
              "├──────────────────────────────────────┼─────────────────────────────┼─────────────────┤\n",
              "│ dense (<span style=\"color: #0087ff; text-decoration-color: #0087ff\">Dense</span>)                        │ (<span style=\"color: #00d7ff; text-decoration-color: #00d7ff\">None</span>, <span style=\"color: #00af00; text-decoration-color: #00af00\">64</span>)                  │          <span style=\"color: #00af00; text-decoration-color: #00af00\">47,168</span> │\n",
              "├──────────────────────────────────────┼─────────────────────────────┼─────────────────┤\n",
              "│ dense_1 (<span style=\"color: #0087ff; text-decoration-color: #0087ff\">Dense</span>)                      │ (<span style=\"color: #00d7ff; text-decoration-color: #00d7ff\">None</span>, <span style=\"color: #00af00; text-decoration-color: #00af00\">1</span>)                   │              <span style=\"color: #00af00; text-decoration-color: #00af00\">65</span> │\n",
              "└──────────────────────────────────────┴─────────────────────────────┴─────────────────┘\n",
              "</pre>\n"
            ]
          },
          "metadata": {}
        },
        {
          "output_type": "display_data",
          "data": {
            "text/plain": [
              "\u001b[1m Total params: \u001b[0m\u001b[38;5;34m47,361\u001b[0m (185.00 KB)\n"
            ],
            "text/html": [
              "<pre style=\"white-space:pre;overflow-x:auto;line-height:normal;font-family:Menlo,'DejaVu Sans Mono',consolas,'Courier New',monospace\"><span style=\"font-weight: bold\"> Total params: </span><span style=\"color: #00af00; text-decoration-color: #00af00\">47,361</span> (185.00 KB)\n",
              "</pre>\n"
            ]
          },
          "metadata": {}
        },
        {
          "output_type": "display_data",
          "data": {
            "text/plain": [
              "\u001b[1m Trainable params: \u001b[0m\u001b[38;5;34m47,361\u001b[0m (185.00 KB)\n"
            ],
            "text/html": [
              "<pre style=\"white-space:pre;overflow-x:auto;line-height:normal;font-family:Menlo,'DejaVu Sans Mono',consolas,'Courier New',monospace\"><span style=\"font-weight: bold\"> Trainable params: </span><span style=\"color: #00af00; text-decoration-color: #00af00\">47,361</span> (185.00 KB)\n",
              "</pre>\n"
            ]
          },
          "metadata": {}
        },
        {
          "output_type": "display_data",
          "data": {
            "text/plain": [
              "\u001b[1m Non-trainable params: \u001b[0m\u001b[38;5;34m0\u001b[0m (0.00 B)\n"
            ],
            "text/html": [
              "<pre style=\"white-space:pre;overflow-x:auto;line-height:normal;font-family:Menlo,'DejaVu Sans Mono',consolas,'Courier New',monospace\"><span style=\"font-weight: bold\"> Non-trainable params: </span><span style=\"color: #00af00; text-decoration-color: #00af00\">0</span> (0.00 B)\n",
              "</pre>\n"
            ]
          },
          "metadata": {}
        },
        {
          "output_type": "stream",
          "name": "stdout",
          "text": [
            "Epoch 1/20\n",
            "\u001b[1m2719/2719\u001b[0m \u001b[32m━━━━━━━━━━━━━━━━━━━━\u001b[0m\u001b[37m\u001b[0m \u001b[1m12s\u001b[0m 3ms/step - loss: 0.0315 - mae: 0.0933 - val_loss: 0.0033 - val_mae: 0.0448\n",
            "Epoch 2/20\n",
            "\u001b[1m2719/2719\u001b[0m \u001b[32m━━━━━━━━━━━━━━━━━━━━\u001b[0m\u001b[37m\u001b[0m \u001b[1m7s\u001b[0m 3ms/step - loss: 0.0039 - mae: 0.0475 - val_loss: 0.0027 - val_mae: 0.0399\n",
            "Epoch 3/20\n",
            "\u001b[1m2719/2719\u001b[0m \u001b[32m━━━━━━━━━━━━━━━━━━━━\u001b[0m\u001b[37m\u001b[0m \u001b[1m7s\u001b[0m 3ms/step - loss: 0.0035 - mae: 0.0449 - val_loss: 0.0024 - val_mae: 0.0379\n",
            "Epoch 4/20\n",
            "\u001b[1m2719/2719\u001b[0m \u001b[32m━━━━━━━━━━━━━━━━━━━━\u001b[0m\u001b[37m\u001b[0m \u001b[1m7s\u001b[0m 3ms/step - loss: 0.0032 - mae: 0.0430 - val_loss: 0.0024 - val_mae: 0.0380\n",
            "Epoch 5/20\n",
            "\u001b[1m2719/2719\u001b[0m \u001b[32m━━━━━━━━━━━━━━━━━━━━\u001b[0m\u001b[37m\u001b[0m \u001b[1m7s\u001b[0m 3ms/step - loss: 0.0031 - mae: 0.0420 - val_loss: 0.0028 - val_mae: 0.0413\n",
            "Epoch 6/20\n",
            "\u001b[1m2719/2719\u001b[0m \u001b[32m━━━━━━━━━━━━━━━━━━━━\u001b[0m\u001b[37m\u001b[0m \u001b[1m7s\u001b[0m 3ms/step - loss: 0.0029 - mae: 0.0408 - val_loss: 0.0022 - val_mae: 0.0363\n",
            "Epoch 7/20\n",
            "\u001b[1m2719/2719\u001b[0m \u001b[32m━━━━━━━━━━━━━━━━━━━━\u001b[0m\u001b[37m\u001b[0m \u001b[1m7s\u001b[0m 3ms/step - loss: 0.0028 - mae: 0.0403 - val_loss: 0.0022 - val_mae: 0.0361\n",
            "Epoch 8/20\n",
            "\u001b[1m2719/2719\u001b[0m \u001b[32m━━━━━━━━━━━━━━━━━━━━\u001b[0m\u001b[37m\u001b[0m \u001b[1m7s\u001b[0m 3ms/step - loss: 0.0027 - mae: 0.0398 - val_loss: 0.0026 - val_mae: 0.0392\n",
            "Epoch 9/20\n",
            "\u001b[1m2719/2719\u001b[0m \u001b[32m━━━━━━━━━━━━━━━━━━━━\u001b[0m\u001b[37m\u001b[0m \u001b[1m7s\u001b[0m 3ms/step - loss: 0.0028 - mae: 0.0400 - val_loss: 0.0027 - val_mae: 0.0403\n",
            "Epoch 10/20\n",
            "\u001b[1m2719/2719\u001b[0m \u001b[32m━━━━━━━━━━━━━━━━━━━━\u001b[0m\u001b[37m\u001b[0m \u001b[1m7s\u001b[0m 3ms/step - loss: 0.0027 - mae: 0.0394 - val_loss: 0.0024 - val_mae: 0.0379\n"
          ]
        },
        {
          "output_type": "display_data",
          "data": {
            "text/plain": [
              "<Figure size 600x400 with 1 Axes>"
            ],
            "image/png": "[encoded data removed]"
          },
          "metadata": {}
        },
        {
          "output_type": "stream",
          "name": "stdout",
          "text": [
            "MSE de Test: 0.0024164547212421894\n",
            "MAE de Test: 0.03841397911310196\n",
            "\u001b[1m1166/1166\u001b[0m \u001b[32m━━━━━━━━━━━━━━━━━━━━\u001b[0m\u001b[37m\u001b[0m \u001b[1m2s\u001b[0m 1ms/step\n",
            "\n",
            "Primeras predicciones vs. valores reales (desescalados):\n",
            "Pred: 8398.25 | Real: 8454.73\n",
            "Pred: 8505.58 | Real: 8545.24\n",
            "Pred: 8634.18 | Real: 8684.97\n",
            "Pred: 8755.23 | Real: 8752.12\n",
            "Pred: 8868.46 | Real: 8889.54\n"
          ]
        }
      ]
    },
    {
      "cell_type": "markdown",
      "source": [
        "**Interpretación de resultados**  \n",
        "El modelo CNN obtiene un MSE de aproximadamente 0.0025 en el conjunto de prueba y un MAE de ~0.0380 en la escala estandarizada. Al desescalar, las primeras predicciones se acercan bastante a los valores reales, con errores de unas decenas de MW sobre valores alrededor de 8000–9000 MW, lo cual sugiere un desempeño razonable.  \n",
        "\n",
        "Como siguiente paso, PODEMOS ver la comparación entre las últimas muestras de la serie real y las predicciones para confirmar si la red mantiene estabilidad."
      ],
      "metadata": {
        "id": "HNs5Uhj8ZvIG"
      }
    },
    {
      "cell_type": "code",
      "source": [
        "# Visualizar las últimas 200 muestras de la serie real vs. predicción\n",
        "plt.figure(figsize=(10, 4))\n",
        "plt.plot(y_test_inv[-200:], label='Real')\n",
        "plt.plot(y_pred_test_inv[-200:], label='Predicción')\n",
        "plt.title('Comparación de la Demanda (Últimas 200 Muestras del Test)')\n",
        "plt.xlabel('Índice')\n",
        "plt.ylabel('Demanda (MW)')\n",
        "plt.legend()\n",
        "plt.show()"
      ],
      "metadata": {
        "colab": {
          "base_uri": "https://localhost:8080/",
          "height": 413
        },
        "id": "3rJkHeo-Zvgf",
        "outputId": "ebd18a52-6d21-467f-de50-461ffaebb0ff"
      },
      "execution_count": 10,
      "outputs": [
        {
          "output_type": "display_data",
          "data": {
            "text/plain": [
              "<Figure size 1000x400 with 1 Axes>"
            ],
            "image/png": "[encoded data removed]"
          },
          "metadata": {}
        }
      ]
    },
    {
      "cell_type": "markdown",
      "source": [
        "**Interpretación y posibles siguientes pasos**  \n",
        "La gráfica confirma que el modelo CNN sigue bastante bien la forma de la demanda en las últimas muestras del conjunto de test, con errores relativamente pequeños. Esto sugiere que el modelo captura adecuadamente las variaciones de corto plazo. No obstante, siempre se pueden explorar mejoras:\n",
        "\n",
        "1. **Ajuste de hiperparámetros**:  \n",
        "   - Aumentar o disminuir el `kernel_size` o el número de filtros en la capa `Conv1D`.  \n",
        "   - Añadir una segunda capa `Conv1D` antes de la capa de pooling.  \n",
        "   - Incluir `Dropout` para reducir sobreajuste.  \n",
        "   - Probar diferentes tamaños de batch, épocas, y paciencia de `EarlyStopping`.\n",
        "\n",
        "2. **Multi-step forecasting**:  \n",
        "   - Actualmente estamos haciendo “one-step ahead” (48 pasos pasados → 1 predicción).  \n",
        "   - Para predecir varios pasos futuros (p. ej. 6 o 12 pasos), se puede entrenar un modelo con una capa de salida de tamaño igual al horizonte de predicción.\n",
        "\n",
        "4. **Variables exógenas**:  \n",
        "   - Si hubiera datos de temperatura, precios de energía, día festivo vs. laboral, etc., podríamos añadirlos como features adicionales.\n",
        "\n",
        "Pdemos **añadir una segunda capa convolucional y una capa de Dropout** para que prpbemos si mejora el desempeño.\n",
        "\n",
        "`Dejaremos hasta aqui esta seccion, para continuar con las demas variantes`"
      ],
      "metadata": {
        "id": "l0-crI0UaW3w"
      }
    },
    {
      "cell_type": "markdown",
      "source": [
        "---\n",
        "Se define la función para dividir la serie univariante en muestras para *multi-step forecasting* (por ejemplo, usando 48 pasos de entrada para predecir los siguientes 6). Se generan los conjuntos (X, y) y se dividen en train, validación y test, similar a lo anterior.  \n",
        "\n",
        "Esta celda define la función `split_univariate_sequence_m_step` para generar muestras de entrada de 48 pasos y salidas de 6 pasos consecutivos. Luego se dividen los datos en train, validación y test y se reestructuran para que la entrada a la CNN tenga forma (samples, timesteps, 1\n"
      ],
      "metadata": {
        "id": "WAfAbbS_6e43"
      }
    },
    {
      "cell_type": "code",
      "source": [
        "# --- Función de splitting multi-step y generación de conjuntos ---\n",
        "\n",
        "\n",
        "# Función para crear secuencias multi-step (ejemplo: 48 pasos de entrada para predecir 6 pasos futuros)\n",
        "def split_univariate_sequence_m_step(sequence, n_steps_in, n_steps_out):\n",
        "    \"\"\"\n",
        "    sequence: array unidimensional (ya escalado) de la serie.\n",
        "    n_steps_in: número de pasos de entrada.\n",
        "    n_steps_out: número de pasos futuros a predecir.\n",
        "    return: X, y (arrays listos para entrenamiento).\n",
        "    \"\"\"\n",
        "    X, y = [], []\n",
        "    for i in range(len(sequence)):\n",
        "        end_ix = i + n_steps_in\n",
        "        out_end_ix = end_ix + n_steps_out\n",
        "        if out_end_ix > len(sequence):\n",
        "            break\n",
        "        seq_x = sequence[i:end_ix]\n",
        "        seq_y = sequence[end_ix:out_end_ix]\n",
        "        X.append(seq_x)\n",
        "        y.append(seq_y)\n",
        "    return np.array(X), np.array(y)\n",
        "\n",
        "# Parámetros para multi-step: 48 pasos de entrada y 6 pasos de salida\n",
        "n_steps_in = 48\n",
        "n_steps_out = 6\n",
        "\n",
        "# Usamos la serie escalada previamente (data_scaled)\n",
        "X_ms, y_ms = split_univariate_sequence_m_step(data_scaled, n_steps_in, n_steps_out)\n",
        "\n",
        "print(\"Forma de X multi-step:\", X_ms.shape)  # (n_samples, 48)\n",
        "print(\"Forma de y multi-step:\", y_ms.shape)  # (n_samples, 6)\n",
        "\n",
        "# Dividir en train (70%), validación (15%) y test (15%)\n",
        "train_size = int(len(X_ms) * 0.70)\n",
        "val_size = int(len(X_ms) * 0.15)\n",
        "\n",
        "X_train_ms = X_ms[:train_size]\n",
        "y_train_ms = y_ms[:train_size]\n",
        "\n",
        "X_val_ms = X_ms[train_size:train_size + val_size]\n",
        "y_val_ms = y_ms[train_size:train_size + val_size]\n",
        "\n",
        "X_test_ms = X_ms[train_size + val_size:]\n",
        "y_test_ms = y_ms[train_size + val_size:]\n",
        "\n",
        "# Reformar X para CNN: (samples, timesteps, features=1)\n",
        "X_train_ms = X_train_ms.reshape((X_train_ms.shape[0], X_train_ms.shape[1], 1))\n",
        "X_val_ms = X_val_ms.reshape((X_val_ms.shape[0], X_val_ms.shape[1], 1))\n",
        "X_test_ms = X_test_ms.reshape((X_test_ms.shape[0], X_test_ms.shape[1], 1))\n",
        "\n",
        "print(\"\\nTamaños conjuntos multi-step:\")\n",
        "print(\"X_train_ms:\", X_train_ms.shape, \" y_train_ms:\", y_train_ms.shape)\n",
        "print(\"X_val_ms:\", X_val_ms.shape, \" y_val_ms:\", y_val_ms.shape)\n",
        "print(\"X_test_ms:\", X_test_ms.shape, \" y_test_ms:\", y_test_ms.shape)"
      ],
      "metadata": {
        "colab": {
          "base_uri": "https://localhost:8080/"
        },
        "id": "3w956W-b6n1Z",
        "outputId": "f0689c69-211c-4fee-bea8-cda521e03be4"
      },
      "execution_count": 11,
      "outputs": [
        {
          "output_type": "stream",
          "name": "stdout",
          "text": [
            "Forma de X multi-step: (248539, 48, 1)\n",
            "Forma de y multi-step: (248539, 6, 1)\n",
            "\n",
            "Tamaños conjuntos multi-step:\n",
            "X_train_ms: (173977, 48, 1)  y_train_ms: (173977, 6, 1)\n",
            "X_val_ms: (37280, 48, 1)  y_val_ms: (37280, 6, 1)\n",
            "X_test_ms: (37282, 48, 1)  y_test_ms: (37282, 6, 1)\n"
          ]
        }
      ]
    },
    {
      "cell_type": "markdown",
      "source": [],
      "metadata": {
        "id": "VU3usQ9y89HK"
      }
    },
    {
      "cell_type": "markdown",
      "source": [
        " Se define y entrena un modelo CNN que incorpora dos capas convolucionales y una capa de Dropout. La salida es de dimensión 6 para predecir 6 pasos futuros de la demanda.  \n",
        "   \n",
        "\n",
        "Se define un modelo CNN que, a diferencia del anterior de 1 paso, predice 6 pasos futuros. Se incluyen dos capas Conv1D (la segunda seguida de una capa Dropout para evitar sobreajuste) y se termina con una capa Dense con 6 neuronas. Se entrena el modelo con EarlyStopping, se evalúa en el conjunto de test y se generan predicciones (recordando que para interpretar los valores en la escala original deberás aplicar la inversa del escalado, columna por columna)"
      ],
      "metadata": {
        "id": "jQ8aqFas8xZg"
      }
    },
    {
      "cell_type": "code",
      "source": [
        "# Definición y entrenamiento de la CNN para multi-step forecasting ---\n",
        "\n",
        "from tensorflow.keras.models import Sequential\n",
        "from tensorflow.keras.layers import Conv1D, MaxPooling1D, Flatten, Dense, Dropout, Input\n",
        "from tensorflow.keras.callbacks import EarlyStopping\n",
        "\n",
        "# Construir el modelo CNN para predecir 6 pasos futuros\n",
        "model_ms = Sequential()\n",
        "model_ms.add(Input(shape=(n_steps_in, 1)))  # entrada: 48 pasos, 1 feature\n",
        "# Primera capa convolucional\n",
        "model_ms.add(Conv1D(filters=32, kernel_size=3, activation='relu'))\n",
        "model_ms.add(MaxPooling1D(pool_size=2))\n",
        "# Segunda capa convolucional\n",
        "model_ms.add(Conv1D(filters=64, kernel_size=3, activation='relu'))\n",
        "# Dropout para regularización\n",
        "model_ms.add(Dropout(0.2))\n",
        "model_ms.add(Flatten())\n",
        "model_ms.add(Dense(100, activation='relu'))\n",
        "# Capa final: salida con n_steps_out neuronas para predecir 6 pasos\n",
        "model_ms.add(Dense(n_steps_out))\n",
        "\n",
        "model_ms.compile(optimizer='adam', loss='mse', metrics=['mae'])\n",
        "model_ms.summary()\n",
        "\n",
        "# EarlyStopping para evitar sobreajuste\n",
        "early_stop_ms = EarlyStopping(monitor='val_loss', patience=3, restore_best_weights=True)\n",
        "\n",
        "# Entrenar el modelo\n",
        "history_ms = model_ms.fit(X_train_ms, y_train_ms,\n",
        "                          validation_data=(X_val_ms, y_val_ms),\n",
        "                          epochs=20,\n",
        "                          batch_size=64,\n",
        "                          callbacks=[early_stop_ms],\n",
        "                          verbose=1)\n",
        "\n",
        "# Graficar la evolución de la pérdida\n",
        "plt.figure(figsize=(6, 4))\n",
        "plt.plot(history_ms.history['loss'], label='Train Loss')\n",
        "plt.plot(history_ms.history['val_loss'], label='Val Loss')\n",
        "plt.title('Evolución de la pérdida (MSE) - Multi-step')\n",
        "plt.xlabel('Épocas')\n",
        "plt.ylabel('MSE')\n",
        "plt.legend()\n",
        "plt.show()\n",
        "\n",
        "# Evaluar en el conjunto de test\n",
        "test_loss_ms, test_mae_ms = model_ms.evaluate(X_test_ms, y_test_ms, verbose=0)\n",
        "print(\"MSE de Test (multi-step):\", test_loss_ms)\n",
        "print(\"MAE de Test (multi-step):\", test_mae_ms)\n",
        "\n",
        "# Generar predicciones en el conjunto de test\n",
        "y_pred_test_ms = model_ms.predict(X_test_ms)\n",
        "\n",
        "# Nota: Para desescalar las predicciones multi-step, puedes aplicar scaler.inverse_transform a cada columna.\n",
        "# Ejemplo (para la primera muestra):\n",
        "y_pred_first = scaler.inverse_transform(y_pred_test_ms[0].reshape(-1,1))\n",
        "y_true_first = scaler.inverse_transform(y_test_ms[0].reshape(-1,1))\n",
        "print(\"\\nPredicción multi-step para la primera muestra (desescalada):\")\n",
        "print(\"Pred:\", y_pred_first.ravel())\n",
        "print(\"Real:\", y_true_first.ravel())"
      ],
      "metadata": {
        "colab": {
          "base_uri": "https://localhost:8080/",
          "height": 1000
        },
        "id": "1vY2gsoV8wh6",
        "outputId": "9efb72a4-79c2-44df-98eb-39ed0b8c753a"
      },
      "execution_count": 12,
      "outputs": [
        {
          "output_type": "display_data",
          "data": {
            "text/plain": [
              "\u001b[1mModel: \"sequential_1\"\u001b[0m\n"
            ],
            "text/html": [
              "<pre style=\"white-space:pre;overflow-x:auto;line-height:normal;font-family:Menlo,'DejaVu Sans Mono',consolas,'Courier New',monospace\"><span style=\"font-weight: bold\">Model: \"sequential_1\"</span>\n",
              "</pre>\n"
            ]
          },
          "metadata": {}
        },
        {
          "output_type": "display_data",
          "data": {
            "text/plain": [
              "┏━━━━━━━━━━━━━━━━━━━━━━━━━━━━━━━━━━━━━━┳━━━━━━━━━━━━━━━━━━━━━━━━━━━━━┳━━━━━━━━━━━━━━━━━┓\n",
              "┃\u001b[1m \u001b[0m\u001b[1mLayer (type)                        \u001b[0m\u001b[1m \u001b[0m┃\u001b[1m \u001b[0m\u001b[1mOutput Shape               \u001b[0m\u001b[1m \u001b[0m┃\u001b[1m \u001b[0m\u001b[1m        Param #\u001b[0m\u001b[1m \u001b[0m┃\n",
              "┡━━━━━━━━━━━━━━━━━━━━━━━━━━━━━━━━━━━━━━╇━━━━━━━━━━━━━━━━━━━━━━━━━━━━━╇━━━━━━━━━━━━━━━━━┩\n",
              "│ conv1d_1 (\u001b[38;5;33mConv1D\u001b[0m)                    │ (\u001b[38;5;45mNone\u001b[0m, \u001b[38;5;34m46\u001b[0m, \u001b[38;5;34m32\u001b[0m)              │             \u001b[38;5;34m128\u001b[0m │\n",
              "├──────────────────────────────────────┼─────────────────────────────┼─────────────────┤\n",
              "│ max_pooling1d_1 (\u001b[38;5;33mMaxPooling1D\u001b[0m)       │ (\u001b[38;5;45mNone\u001b[0m, \u001b[38;5;34m23\u001b[0m, \u001b[38;5;34m32\u001b[0m)              │               \u001b[38;5;34m0\u001b[0m │\n",
              "├──────────────────────────────────────┼─────────────────────────────┼─────────────────┤\n",
              "│ conv1d_2 (\u001b[38;5;33mConv1D\u001b[0m)                    │ (\u001b[38;5;45mNone\u001b[0m, \u001b[38;5;34m21\u001b[0m, \u001b[38;5;34m64\u001b[0m)              │           \u001b[38;5;34m6,208\u001b[0m │\n",
              "├──────────────────────────────────────┼─────────────────────────────┼─────────────────┤\n",
              "│ dropout (\u001b[38;5;33mDropout\u001b[0m)                    │ (\u001b[38;5;45mNone\u001b[0m, \u001b[38;5;34m21\u001b[0m, \u001b[38;5;34m64\u001b[0m)              │               \u001b[38;5;34m0\u001b[0m │\n",
              "├──────────────────────────────────────┼─────────────────────────────┼─────────────────┤\n",
              "│ flatten_1 (\u001b[38;5;33mFlatten\u001b[0m)                  │ (\u001b[38;5;45mNone\u001b[0m, \u001b[38;5;34m1344\u001b[0m)                │               \u001b[38;5;34m0\u001b[0m │\n",
              "├──────────────────────────────────────┼─────────────────────────────┼─────────────────┤\n",
              "│ dense_2 (\u001b[38;5;33mDense\u001b[0m)                      │ (\u001b[38;5;45mNone\u001b[0m, \u001b[38;5;34m100\u001b[0m)                 │         \u001b[38;5;34m134,500\u001b[0m │\n",
              "├──────────────────────────────────────┼─────────────────────────────┼─────────────────┤\n",
              "│ dense_3 (\u001b[38;5;33mDense\u001b[0m)                      │ (\u001b[38;5;45mNone\u001b[0m, \u001b[38;5;34m6\u001b[0m)                   │             \u001b[38;5;34m606\u001b[0m │\n",
              "└──────────────────────────────────────┴─────────────────────────────┴─────────────────┘\n"
            ],
            "text/html": [
              "<pre style=\"white-space:pre;overflow-x:auto;line-height:normal;font-family:Menlo,'DejaVu Sans Mono',consolas,'Courier New',monospace\">┏━━━━━━━━━━━━━━━━━━━━━━━━━━━━━━━━━━━━━━┳━━━━━━━━━━━━━━━━━━━━━━━━━━━━━┳━━━━━━━━━━━━━━━━━┓\n",
              "┃<span style=\"font-weight: bold\"> Layer (type)                         </span>┃<span style=\"font-weight: bold\"> Output Shape                </span>┃<span style=\"font-weight: bold\">         Param # </span>┃\n",
              "┡━━━━━━━━━━━━━━━━━━━━━━━━━━━━━━━━━━━━━━╇━━━━━━━━━━━━━━━━━━━━━━━━━━━━━╇━━━━━━━━━━━━━━━━━┩\n",
              "│ conv1d_1 (<span style=\"color: #0087ff; text-decoration-color: #0087ff\">Conv1D</span>)                    │ (<span style=\"color: #00d7ff; text-decoration-color: #00d7ff\">None</span>, <span style=\"color: #00af00; text-decoration-color: #00af00\">46</span>, <span style=\"color: #00af00; text-decoration-color: #00af00\">32</span>)              │             <span style=\"color: #00af00; text-decoration-color: #00af00\">128</span> │\n",
              "├──────────────────────────────────────┼─────────────────────────────┼─────────────────┤\n",
              "│ max_pooling1d_1 (<span style=\"color: #0087ff; text-decoration-color: #0087ff\">MaxPooling1D</span>)       │ (<span style=\"color: #00d7ff; text-decoration-color: #00d7ff\">None</span>, <span style=\"color: #00af00; text-decoration-color: #00af00\">23</span>, <span style=\"color: #00af00; text-decoration-color: #00af00\">32</span>)              │               <span style=\"color: #00af00; text-decoration-color: #00af00\">0</span> │\n",
              "├──────────────────────────────────────┼─────────────────────────────┼─────────────────┤\n",
              "│ conv1d_2 (<span style=\"color: #0087ff; text-decoration-color: #0087ff\">Conv1D</span>)                    │ (<span style=\"color: #00d7ff; text-decoration-color: #00d7ff\">None</span>, <span style=\"color: #00af00; text-decoration-color: #00af00\">21</span>, <span style=\"color: #00af00; text-decoration-color: #00af00\">64</span>)              │           <span style=\"color: #00af00; text-decoration-color: #00af00\">6,208</span> │\n",
              "├──────────────────────────────────────┼─────────────────────────────┼─────────────────┤\n",
              "│ dropout (<span style=\"color: #0087ff; text-decoration-color: #0087ff\">Dropout</span>)                    │ (<span style=\"color: #00d7ff; text-decoration-color: #00d7ff\">None</span>, <span style=\"color: #00af00; text-decoration-color: #00af00\">21</span>, <span style=\"color: #00af00; text-decoration-color: #00af00\">64</span>)              │               <span style=\"color: #00af00; text-decoration-color: #00af00\">0</span> │\n",
              "├──────────────────────────────────────┼─────────────────────────────┼─────────────────┤\n",
              "│ flatten_1 (<span style=\"color: #0087ff; text-decoration-color: #0087ff\">Flatten</span>)                  │ (<span style=\"color: #00d7ff; text-decoration-color: #00d7ff\">None</span>, <span style=\"color: #00af00; text-decoration-color: #00af00\">1344</span>)                │               <span style=\"color: #00af00; text-decoration-color: #00af00\">0</span> │\n",
              "├──────────────────────────────────────┼─────────────────────────────┼─────────────────┤\n",
              "│ dense_2 (<span style=\"color: #0087ff; text-decoration-color: #0087ff\">Dense</span>)                      │ (<span style=\"color: #00d7ff; text-decoration-color: #00d7ff\">None</span>, <span style=\"color: #00af00; text-decoration-color: #00af00\">100</span>)                 │         <span style=\"color: #00af00; text-decoration-color: #00af00\">134,500</span> │\n",
              "├──────────────────────────────────────┼─────────────────────────────┼─────────────────┤\n",
              "│ dense_3 (<span style=\"color: #0087ff; text-decoration-color: #0087ff\">Dense</span>)                      │ (<span style=\"color: #00d7ff; text-decoration-color: #00d7ff\">None</span>, <span style=\"color: #00af00; text-decoration-color: #00af00\">6</span>)                   │             <span style=\"color: #00af00; text-decoration-color: #00af00\">606</span> │\n",
              "└──────────────────────────────────────┴─────────────────────────────┴─────────────────┘\n",
              "</pre>\n"
            ]
          },
          "metadata": {}
        },
        {
          "output_type": "display_data",
          "data": {
            "text/plain": [
              "\u001b[1m Total params: \u001b[0m\u001b[38;5;34m141,442\u001b[0m (552.51 KB)\n"
            ],
            "text/html": [
              "<pre style=\"white-space:pre;overflow-x:auto;line-height:normal;font-family:Menlo,'DejaVu Sans Mono',consolas,'Courier New',monospace\"><span style=\"font-weight: bold\"> Total params: </span><span style=\"color: #00af00; text-decoration-color: #00af00\">141,442</span> (552.51 KB)\n",
              "</pre>\n"
            ]
          },
          "metadata": {}
        },
        {
          "output_type": "display_data",
          "data": {
            "text/plain": [
              "\u001b[1m Trainable params: \u001b[0m\u001b[38;5;34m141,442\u001b[0m (552.51 KB)\n"
            ],
            "text/html": [
              "<pre style=\"white-space:pre;overflow-x:auto;line-height:normal;font-family:Menlo,'DejaVu Sans Mono',consolas,'Courier New',monospace\"><span style=\"font-weight: bold\"> Trainable params: </span><span style=\"color: #00af00; text-decoration-color: #00af00\">141,442</span> (552.51 KB)\n",
              "</pre>\n"
            ]
          },
          "metadata": {}
        },
        {
          "output_type": "display_data",
          "data": {
            "text/plain": [
              "\u001b[1m Non-trainable params: \u001b[0m\u001b[38;5;34m0\u001b[0m (0.00 B)\n"
            ],
            "text/html": [
              "<pre style=\"white-space:pre;overflow-x:auto;line-height:normal;font-family:Menlo,'DejaVu Sans Mono',consolas,'Courier New',monospace\"><span style=\"font-weight: bold\"> Non-trainable params: </span><span style=\"color: #00af00; text-decoration-color: #00af00\">0</span> (0.00 B)\n",
              "</pre>\n"
            ]
          },
          "metadata": {}
        },
        {
          "output_type": "stream",
          "name": "stdout",
          "text": [
            "Epoch 1/20\n",
            "\u001b[1m2719/2719\u001b[0m \u001b[32m━━━━━━━━━━━━━━━━━━━━\u001b[0m\u001b[37m\u001b[0m \u001b[1m15s\u001b[0m 4ms/step - loss: 0.0744 - mae: 0.1713 - val_loss: 0.0091 - val_mae: 0.0724\n",
            "Epoch 2/20\n",
            "\u001b[1m2719/2719\u001b[0m \u001b[32m━━━━━━━━━━━━━━━━━━━━\u001b[0m\u001b[37m\u001b[0m \u001b[1m8s\u001b[0m 3ms/step - loss: 0.0207 - mae: 0.1002 - val_loss: 0.0083 - val_mae: 0.0681\n",
            "Epoch 3/20\n",
            "\u001b[1m2719/2719\u001b[0m \u001b[32m━━━━━━━━━━━━━━━━━━━━\u001b[0m\u001b[37m\u001b[0m \u001b[1m8s\u001b[0m 3ms/step - loss: 0.0184 - mae: 0.0949 - val_loss: 0.0083 - val_mae: 0.0689\n",
            "Epoch 4/20\n",
            "\u001b[1m2719/2719\u001b[0m \u001b[32m━━━━━━━━━━━━━━━━━━━━\u001b[0m\u001b[37m\u001b[0m \u001b[1m8s\u001b[0m 3ms/step - loss: 0.0168 - mae: 0.0911 - val_loss: 0.0075 - val_mae: 0.0643\n",
            "Epoch 5/20\n",
            "\u001b[1m2719/2719\u001b[0m \u001b[32m━━━━━━━━━━━━━━━━━━━━\u001b[0m\u001b[37m\u001b[0m \u001b[1m8s\u001b[0m 3ms/step - loss: 0.0160 - mae: 0.0892 - val_loss: 0.0069 - val_mae: 0.0608\n",
            "Epoch 6/20\n",
            "\u001b[1m2719/2719\u001b[0m \u001b[32m━━━━━━━━━━━━━━━━━━━━\u001b[0m\u001b[37m\u001b[0m \u001b[1m8s\u001b[0m 3ms/step - loss: 0.0155 - mae: 0.0875 - val_loss: 0.0066 - val_mae: 0.0590\n",
            "Epoch 7/20\n",
            "\u001b[1m2719/2719\u001b[0m \u001b[32m━━━━━━━━━━━━━━━━━━━━\u001b[0m\u001b[37m\u001b[0m \u001b[1m8s\u001b[0m 3ms/step - loss: 0.0151 - mae: 0.0866 - val_loss: 0.0070 - val_mae: 0.0610\n",
            "Epoch 8/20\n",
            "\u001b[1m2719/2719\u001b[0m \u001b[32m━━━━━━━━━━━━━━━━━━━━\u001b[0m\u001b[37m\u001b[0m \u001b[1m8s\u001b[0m 3ms/step - loss: 0.0147 - mae: 0.0856 - val_loss: 0.0068 - val_mae: 0.0608\n",
            "Epoch 9/20\n",
            "\u001b[1m2719/2719\u001b[0m \u001b[32m━━━━━━━━━━━━━━━━━━━━\u001b[0m\u001b[37m\u001b[0m \u001b[1m8s\u001b[0m 3ms/step - loss: 0.0146 - mae: 0.0851 - val_loss: 0.0072 - val_mae: 0.0623\n"
          ]
        },
        {
          "output_type": "display_data",
          "data": {
            "text/plain": [
              "<Figure size 600x400 with 1 Axes>"
            ],
            "image/png": "[encoded data removed]"
          },
          "metadata": {}
        },
        {
          "output_type": "stream",
          "name": "stdout",
          "text": [
            "MSE de Test (multi-step): 0.007368354592472315\n",
            "MAE de Test (multi-step): 0.06372605264186859\n",
            "\u001b[1m1166/1166\u001b[0m \u001b[32m━━━━━━━━━━━━━━━━━━━━\u001b[0m\u001b[37m\u001b[0m \u001b[1m2s\u001b[0m 1ms/step\n",
            "\n",
            "Predicción multi-step para la primera muestra (desescalada):\n",
            "Pred: [7879.867  7924.778  7971.285  8032.089  8038.2256 8055.0615]\n",
            "Real: [8080.67 8138.6  8272.49 8323.23 8454.73 8545.24]\n"
          ]
        }
      ]
    },
    {
      "cell_type": "markdown",
      "source": [
        "- La función **split_univariate_sequence** recorre la serie y, para cada posición, toma una ventana de `n_steps` para formar la entrada y utiliza el siguiente valor como salida, produciendo arrays X (ventanas) e y (valor futuro).\n",
        "- La función **split_univariate_sequence_m_step** extiende esta idea para pronósticos multi-step, donde para cada ventana de tamaño `n_steps_in` se predicen los siguientes `n_steps_out` valores.\n",
        "- Finalmente, se reformatea X para cumplir con el input shape que requieren las CNN 1D: \\((muestras, timesteps, 1)\\).\n"
      ],
      "metadata": {
        "id": "qFZksqz06_zd"
      }
    },
    {
      "cell_type": "markdown",
      "source": [
        "**Interpretación**  \n",
        "- El MSE en el set de prueba (0.0073 en la escala estandarizada) y el MAE (0.063) indican un desempeño razonable, pero al desescalar vemos que, para la primera ventana de 6 pasos, las predicciones están por debajo del valor real en unos cientos de MW. Esto segun investigamos, pasa en multi-step: el error suele aumentar a medida que se predicen pasos más lejanos.  \n",
        "- Si la demanda ronda los 8000–8500 MW, un error de ~300–700 MW equivale aproximadamente a un 4%–8% de desviación. Aun así, puede ser aceptable dependiendo de lo que querramos.\n",
        "- La gráfica de pérdidas muestra que el modelo todavía baja el error en entrenamiento y validación, sin señales drásticas de sobreajuste.  \n",
        "\n",
        "**Posibles mejoras, pero como queremos implementar todas las variantes que vimos, LO DEJAREMOS HASTA ACA**  \n",
        "1. **Analizar error por horizonte**: Calcular el MAE/MSE por cada uno de los 6 pasos para ver en cuál horizonte el modelo falla más.  \n",
        "2. **Ajuste de hiperparámetros**:  \n",
        "   - Más filtros en `Conv1D`, cambiar `kernel_size`, o agregar una tercera capa convolucional.  \n",
        "   - Probar un `Dropout` un poco mayor o menor.  \n",
        "   - Ajustar el número de épocas y el `batch_size`.  \n",
        "4. **Codificar periodicidad** (hora del día, día de la semana) como features sen/cos, para ayudar al modelo a capturar mejor patrones diarios/semanales.  \n",
        "6. **Evaluar resultados** con distintos horizontes de validación (walk-forward) para robustez.  \n",
        "---"
      ],
      "metadata": {
        "id": "5-Ss43XGis9S"
      }
    },
    {
      "cell_type": "code",
      "source": [
        "# MULTIVARIADO SINGLE-STEP\n",
        "# Usar 'TOTALDEMAND' y 'RRP' como X (2 features) y predecir SOLO 'TOTALDEMAND' a 1 paso.\n",
        "\n",
        "import numpy as np\n",
        "import pandas as pd\n",
        "from sklearn.preprocessing import StandardScaler\n",
        "import tensorflow as tf\n",
        "from tensorflow.keras.models import Sequential\n",
        "from tensorflow.keras.layers import Conv1D, MaxPooling1D, Flatten, Dense, Dropout\n",
        "from tensorflow.keras.callbacks import EarlyStopping\n",
        "\n",
        "# 1) Construir DataFrame con las dos columnas\n",
        "df_mv = df_all[['TOTALDEMAND','RRP']].copy()\n",
        "\n",
        "# 2) Escalar las dos columnas\n",
        "scaler_mv = StandardScaler()\n",
        "data_mv_scaled = scaler_mv.fit_transform(df_mv.values)  # shape (n_samples, 2)\n",
        "\n",
        "# 3) Función para multivariado single-step (X -> 2 features, y -> demand)\n",
        "def split_multivariate_single_step(sequence, n_lags=48):\n",
        "    \"\"\"\n",
        "    sequence: array 2D (num_muestras, 2) con [TOTALDEMAND, RRP]\n",
        "    n_lags: número de pasos pasados a usar\n",
        "    returns: X con shape (muestras, n_lags, 2), y con shape (muestras,)\n",
        "    \"\"\"\n",
        "    X, y = [], []\n",
        "    for i in range(len(sequence)):\n",
        "        end_ix = i + n_lags\n",
        "        if end_ix >= len(sequence):\n",
        "            break\n",
        "        seq_x = sequence[i:end_ix, :]          # [n_lags, 2]\n",
        "        seq_y = sequence[end_ix, 0]            # la columna 0 = 'TOTALDEMAND'\n",
        "        X.append(seq_x)\n",
        "        y.append(seq_y)\n",
        "    return np.array(X), np.array(y)\n",
        "\n",
        "# Crear secuencias\n",
        "n_lags = 48\n",
        "X_mv, y_mv = split_multivariate_single_step(data_mv_scaled, n_lags=n_lags)\n",
        "print(\"Shape X_mv:\", X_mv.shape, \"| Shape y_mv:\", y_mv.shape)\n",
        "\n",
        "# Dividir en train/val/test\n",
        "train_size = int(len(X_mv)*0.70)\n",
        "val_size = int(len(X_mv)*0.15)\n",
        "X_train_mv = X_mv[:train_size]\n",
        "y_train_mv = y_mv[:train_size]\n",
        "X_val_mv = X_mv[train_size:train_size+val_size]\n",
        "y_val_mv = y_mv[train_size:train_size+val_size]\n",
        "X_test_mv = X_mv[train_size+val_size:]\n",
        "y_test_mv = y_mv[train_size+val_size:]\n",
        "\n",
        "# 4) Definir el modelo CNN\n",
        "model_mv = Sequential()\n",
        "model_mv.add(Conv1D(filters=32, kernel_size=3, activation='relu', input_shape=(n_lags, 2)))\n",
        "model_mv.add(MaxPooling1D(pool_size=2))\n",
        "model_mv.add(Flatten())\n",
        "model_mv.add(Dense(64, activation='relu'))\n",
        "model_mv.add(Dense(1))  # salida: un solo valor (TOTALDEMAND)\n",
        "\n",
        "model_mv.compile(optimizer='adam', loss='mse', metrics=['mae'])\n",
        "early_stop_mv = EarlyStopping(monitor='val_loss', patience=3, restore_best_weights=True)\n",
        "\n",
        "# 5) Entrenar\n",
        "history_mv = model_mv.fit(\n",
        "    X_train_mv, y_train_mv,\n",
        "    validation_data=(X_val_mv, y_val_mv),\n",
        "    epochs=20, batch_size=64,\n",
        "    callbacks=[early_stop_mv],\n",
        "    verbose=1\n",
        ")\n",
        "\n",
        "# 6) Evaluar y predecir\n",
        "mse_mv, mae_mv = model_mv.evaluate(X_test_mv, y_test_mv, verbose=0)\n",
        "print(\"Test MSE:\", mse_mv, \" | Test MAE:\", mae_mv)\n",
        "\n",
        "y_pred_test_mv = model_mv.predict(X_test_mv)\n",
        "\n",
        "# 7) Desescalar la salida para interpretar\n",
        "#   La columna 0 es 'TOTALDEMAND', así que invertimos usando la misma escala.\n",
        "#   Para un valor predicho, lo ponemos en [pred, algo] y luego inversa.\n",
        "y_pred_inv_mv = []\n",
        "for pred in y_pred_test_mv:\n",
        "    # \"reconstruimos\" un vector 2D con [pred, 0], para usar inverse_transform\n",
        "    temp = np.array([pred[0], 0]).reshape(1, -1)\n",
        "    inv = scaler_mv.inverse_transform(temp)\n",
        "    y_pred_inv_mv.append(inv[0,0])\n",
        "\n",
        "# Lo mismo para y_test\n",
        "y_test_inv_mv = []\n",
        "for real_val in y_test_mv:\n",
        "    temp = np.array([real_val, 0]).reshape(1, -1)\n",
        "    inv = scaler_mv.inverse_transform(temp)\n",
        "    y_test_inv_mv.append(inv[0,0])\n",
        "\n",
        "print(\"\\nEjemplo de predicción vs real (desescalado):\")\n",
        "for i in range(3):\n",
        "    print(f\"Pred: {y_pred_inv_mv[i]:.2f} | Real: {y_test_inv_mv[i]:.2f}\")\n"
      ],
      "metadata": {
        "colab": {
          "base_uri": "https://localhost:8080/"
        },
        "id": "GD-wHkN8sKmJ",
        "outputId": "d2e8eafd-e7ac-4c41-dfbd-7781b358c5b4"
      },
      "execution_count": 14,
      "outputs": [
        {
          "output_type": "stream",
          "name": "stdout",
          "text": [
            "Shape X_mv: (248544, 48, 2) | Shape y_mv: (248544,)\n"
          ]
        },
        {
          "output_type": "stream",
          "name": "stderr",
          "text": [
            "/usr/local/lib/python3.11/dist-packages/keras/src/layers/convolutional/base_conv.py:107: UserWarning: Do not pass an `input_shape`/`input_dim` argument to a layer. When using Sequential models, prefer using an `Input(shape)` object as the first layer in the model instead.\n",
            "  super().__init__(activity_regularizer=activity_regularizer, **kwargs)\n"
          ]
        },
        {
          "output_type": "stream",
          "name": "stdout",
          "text": [
            "Epoch 1/20\n",
            "\u001b[1m2719/2719\u001b[0m \u001b[32m━━━━━━━━━━━━━━━━━━━━\u001b[0m\u001b[37m\u001b[0m \u001b[1m10s\u001b[0m 3ms/step - loss: 0.0711 - mae: 0.1321 - val_loss: 0.0049 - val_mae: 0.0496\n",
            "Epoch 2/20\n",
            "\u001b[1m2719/2719\u001b[0m \u001b[32m━━━━━━━━━━━━━━━━━━━━\u001b[0m\u001b[37m\u001b[0m \u001b[1m8s\u001b[0m 3ms/step - loss: 0.0058 - mae: 0.0534 - val_loss: 0.0037 - val_mae: 0.0447\n",
            "Epoch 3/20\n",
            "\u001b[1m2719/2719\u001b[0m \u001b[32m━━━━━━━━━━━━━━━━━━━━\u001b[0m\u001b[37m\u001b[0m \u001b[1m7s\u001b[0m 3ms/step - loss: 0.0045 - mae: 0.0490 - val_loss: 0.0030 - val_mae: 0.0418\n",
            "Epoch 4/20\n",
            "\u001b[1m2719/2719\u001b[0m \u001b[32m━━━━━━━━━━━━━━━━━━━━\u001b[0m\u001b[37m\u001b[0m \u001b[1m7s\u001b[0m 3ms/step - loss: 0.0040 - mae: 0.0466 - val_loss: 0.0023 - val_mae: 0.0369\n",
            "Epoch 5/20\n",
            "\u001b[1m2719/2719\u001b[0m \u001b[32m━━━━━━━━━━━━━━━━━━━━\u001b[0m\u001b[37m\u001b[0m \u001b[1m7s\u001b[0m 3ms/step - loss: 0.0036 - mae: 0.0448 - val_loss: 0.0025 - val_mae: 0.0382\n",
            "Epoch 6/20\n",
            "\u001b[1m2719/2719\u001b[0m \u001b[32m━━━━━━━━━━━━━━━━━━━━\u001b[0m\u001b[37m\u001b[0m \u001b[1m7s\u001b[0m 3ms/step - loss: 0.0033 - mae: 0.0430 - val_loss: 0.0027 - val_mae: 0.0399\n",
            "Epoch 7/20\n",
            "\u001b[1m2719/2719\u001b[0m \u001b[32m━━━━━━━━━━━━━━━━━━━━\u001b[0m\u001b[37m\u001b[0m \u001b[1m7s\u001b[0m 3ms/step - loss: 0.0033 - mae: 0.0425 - val_loss: 0.0023 - val_mae: 0.0372\n",
            "Test MSE: 0.0030051260255277157  | Test MAE: 0.04171138256788254\n",
            "\u001b[1m1166/1166\u001b[0m \u001b[32m━━━━━━━━━━━━━━━━━━━━\u001b[0m\u001b[37m\u001b[0m \u001b[1m2s\u001b[0m 1ms/step\n",
            "\n",
            "Ejemplo de predicción vs real (desescalado):\n",
            "Pred: 8369.72 | Real: 8454.73\n",
            "Pred: 8490.99 | Real: 8545.24\n",
            "Pred: 8619.89 | Real: 8684.97\n"
          ]
        }
      ]
    },
    {
      "cell_type": "markdown",
      "source": [
        "\n",
        "- Creamos un dataset con 2 columnas (`TOTALDEMAND`, `RRP`) y lo escalamos.  \n",
        "- Con `split_multivariate_single_step` formamos ventanas de 48 pasos, cada una con 2 features. La salida es el siguiente valor de `TOTALDEMAND` (columna 0).  \n",
        "- Entrenamos una CNN 1D y evaluamos su rendimiento. Al final, se desescalan las predicciones y se muestra un ejemplo comparativo.  \n",
        "\n",
        "\n",
        "**interpretación de resultados**\n",
        "\n",
        "  **Multivariado Single-Step**  \n",
        "   - **Datos:** Ventanas de 48 pasos con 2 features (TOTALDEMAND y RRP).  \n",
        "   - **Salida:** Se predice un único valor de TOTALDEMAND.  \n",
        "   - **Resultados:**  \n",
        "     - Ejemplos de predicción vs. real muestran diferencias de alrededor de 80–100 MW, lo que indica un buen desempeño (dado que la demanda está en torno a 8400–8500 MW).  \n",
        "---\n"
      ],
      "metadata": {
        "id": "I-dlBPKPsP2f"
      }
    },
    {
      "cell_type": "code",
      "source": [
        "# MULTI-OUTPUT SINGLE-STEP\n",
        "# Predecir 1 paso de \"TOTALDEMAND\" y \"RRP\" simultáneamente (2 salidas).\n",
        "# (Misma idea, pero la y tendrá 2 valores a la vez)\n",
        "\n",
        "# 1) Dataset original de 2 columnas\n",
        "df_mo = df_all[['TOTALDEMAND','RRP']].copy()\n",
        "\n",
        "# 2) Escalado\n",
        "scaler_mo = StandardScaler()\n",
        "data_mo_scaled = scaler_mo.fit_transform(df_mo.values)  # shape (n_samples, 2)\n",
        "\n",
        "# 3) Función para multi-output single-step\n",
        "def split_multioutput_single_step(sequence, n_lags=48):\n",
        "    \"\"\"\n",
        "    sequence: array 2D (n_samples, 2) con [TOTALDEMAND, RRP].\n",
        "    n_lags: número de pasos a usar como entrada.\n",
        "    returns: X (muestras, n_lags, 2), y (muestras, 2) => un vector de 2 salidas (demanda, rrp)\n",
        "    \"\"\"\n",
        "    X, y = [], []\n",
        "    for i in range(len(sequence)):\n",
        "        end_ix = i + n_lags\n",
        "        if end_ix >= len(sequence):\n",
        "            break\n",
        "        seq_x = sequence[i:end_ix, :]      # shape (n_lags, 2)\n",
        "        seq_y = sequence[end_ix, :]        # shape (2,) => [demanda, rrp]\n",
        "        X.append(seq_x)\n",
        "        y.append(seq_y)\n",
        "    return np.array(X), np.array(y)\n",
        "\n",
        "n_lags = 48\n",
        "X_mo, y_mo = split_multioutput_single_step(data_mo_scaled, n_lags)\n",
        "print(\"Shape X_mo:\", X_mo.shape, \"| Shape y_mo:\", y_mo.shape)  # y_mo => (muestras, 2)\n",
        "\n",
        "# 4) Train/Val/Test\n",
        "train_size = int(len(X_mo)*0.70)\n",
        "val_size = int(len(X_mo)*0.15)\n",
        "X_train_mo = X_mo[:train_size]\n",
        "y_train_mo = y_mo[:train_size]\n",
        "X_val_mo = X_mo[train_size:train_size+val_size]\n",
        "y_val_mo = y_mo[train_size:train_size+val_size]\n",
        "X_test_mo = X_mo[train_size+val_size:]\n",
        "y_test_mo = y_mo[train_size+val_size:]\n",
        "\n",
        "# 5) Modelo CNN multi-output\n",
        "model_mo = Sequential()\n",
        "model_mo.add(Conv1D(filters=32, kernel_size=3, activation='relu', input_shape=(n_lags, 2)))\n",
        "model_mo.add(MaxPooling1D(pool_size=2))\n",
        "model_mo.add(Flatten())\n",
        "model_mo.add(Dense(64, activation='relu'))\n",
        "model_mo.add(Dense(2))  # 2 salidas: [TOTALDEMAND, RRP]\n",
        "\n",
        "model_mo.compile(optimizer='adam', loss='mse', metrics=['mae'])\n",
        "early_stop_mo = EarlyStopping(monitor='val_loss', patience=3, restore_best_weights=True)\n",
        "\n",
        "history_mo = model_mo.fit(\n",
        "    X_train_mo, y_train_mo,\n",
        "    validation_data=(X_val_mo, y_val_mo),\n",
        "    epochs=20, batch_size=64,\n",
        "    callbacks=[early_stop_mo],\n",
        "    verbose=1\n",
        ")\n",
        "\n",
        "# 6) Evaluar\n",
        "mse_mo, mae_mo = model_mo.evaluate(X_test_mo, y_test_mo, verbose=0)\n",
        "print(\"Test MSE (multi-output):\", mse_mo, \"| Test MAE:\", mae_mo)\n",
        "\n",
        "# 7) Predicciones y desescalado\n",
        "y_pred_test_mo = model_mo.predict(X_test_mo)\n",
        "\n",
        "# y_pred_test_mo => (muestras, 2)\n",
        "# Invertir la escala para ambas columnas\n",
        "y_pred_inv_mo = scaler_mo.inverse_transform(y_pred_test_mo)\n",
        "y_test_inv_mo = scaler_mo.inverse_transform(y_test_mo)\n",
        "\n",
        "print(\"\\nEjemplo de predicción vs real (desescalado) en multi-output (Demanda, RRP):\")\n",
        "for i in range(3):\n",
        "    print(f\"Pred: {y_pred_inv_mo[i]} | Real: {y_test_inv_mo[i]}\")\n"
      ],
      "metadata": {
        "colab": {
          "base_uri": "https://localhost:8080/"
        },
        "id": "rlnYaN2_sVeW",
        "outputId": "7b13b1e8-ae50-4020-e4cb-50ecb856d2ad"
      },
      "execution_count": 15,
      "outputs": [
        {
          "output_type": "stream",
          "name": "stdout",
          "text": [
            "Shape X_mo: (248544, 48, 2) | Shape y_mo: (248544, 2)\n",
            "Epoch 1/20\n"
          ]
        },
        {
          "output_type": "stream",
          "name": "stderr",
          "text": [
            "/usr/local/lib/python3.11/dist-packages/keras/src/layers/convolutional/base_conv.py:107: UserWarning: Do not pass an `input_shape`/`input_dim` argument to a layer. When using Sequential models, prefer using an `Input(shape)` object as the first layer in the model instead.\n",
            "  super().__init__(activity_regularizer=activity_regularizer, **kwargs)\n"
          ]
        },
        {
          "output_type": "stream",
          "name": "stdout",
          "text": [
            "\u001b[1m2719/2719\u001b[0m \u001b[32m━━━━━━━━━━━━━━━━━━━━\u001b[0m\u001b[37m\u001b[0m \u001b[1m11s\u001b[0m 3ms/step - loss: 0.3847 - mae: 0.1565 - val_loss: 0.1522 - val_mae: 0.0646\n",
            "Epoch 2/20\n",
            "\u001b[1m2719/2719\u001b[0m \u001b[32m━━━━━━━━━━━━━━━━━━━━\u001b[0m\u001b[37m\u001b[0m \u001b[1m7s\u001b[0m 3ms/step - loss: 0.2961 - mae: 0.0982 - val_loss: 0.1650 - val_mae: 0.0666\n",
            "Epoch 3/20\n",
            "\u001b[1m2719/2719\u001b[0m \u001b[32m━━━━━━━━━━━━━━━━━━━━\u001b[0m\u001b[37m\u001b[0m \u001b[1m8s\u001b[0m 3ms/step - loss: 0.2374 - mae: 0.0914 - val_loss: 0.1569 - val_mae: 0.0597\n",
            "Epoch 4/20\n",
            "\u001b[1m2719/2719\u001b[0m \u001b[32m━━━━━━━━━━━━━━━━━━━━\u001b[0m\u001b[37m\u001b[0m \u001b[1m7s\u001b[0m 3ms/step - loss: 0.1787 - mae: 0.0829 - val_loss: 0.1506 - val_mae: 0.0668\n",
            "Epoch 5/20\n",
            "\u001b[1m2719/2719\u001b[0m \u001b[32m━━━━━━━━━━━━━━━━━━━━\u001b[0m\u001b[37m\u001b[0m \u001b[1m8s\u001b[0m 3ms/step - loss: 0.2889 - mae: 0.0897 - val_loss: 0.1403 - val_mae: 0.0650\n",
            "Epoch 6/20\n",
            "\u001b[1m2719/2719\u001b[0m \u001b[32m━━━━━━━━━━━━━━━━━━━━\u001b[0m\u001b[37m\u001b[0m \u001b[1m7s\u001b[0m 3ms/step - loss: 0.2243 - mae: 0.0860 - val_loss: 0.1528 - val_mae: 0.0824\n",
            "Epoch 7/20\n",
            "\u001b[1m2719/2719\u001b[0m \u001b[32m━━━━━━━━━━━━━━━━━━━━\u001b[0m\u001b[37m\u001b[0m \u001b[1m8s\u001b[0m 3ms/step - loss: 0.2369 - mae: 0.0851 - val_loss: 0.1412 - val_mae: 0.0637\n",
            "Epoch 8/20\n",
            "\u001b[1m2719/2719\u001b[0m \u001b[32m━━━━━━━━━━━━━━━━━━━━\u001b[0m\u001b[37m\u001b[0m \u001b[1m8s\u001b[0m 3ms/step - loss: 0.2965 - mae: 0.0861 - val_loss: 0.1530 - val_mae: 0.0621\n",
            "Test MSE (multi-output): 0.8989700675010681 | Test MAE: 0.10171065479516983\n",
            "\u001b[1m1166/1166\u001b[0m \u001b[32m━━━━━━━━━━━━━━━━━━━━\u001b[0m\u001b[37m\u001b[0m \u001b[1m2s\u001b[0m 1ms/step\n",
            "\n",
            "Ejemplo de predicción vs real (desescalado) en multi-output (Demanda, RRP):\n",
            "Pred: [8491.77     132.97186] | Real: [8454.73  147.96]\n",
            "Pred: [8562.369   143.0548] | Real: [8545.24  147.96]\n",
            "Pred: [8680.98     155.07545] | Real: [8684.97  150.02]\n"
          ]
        }
      ]
    },
    {
      "cell_type": "markdown",
      "source": [
        "- Ahora la red tiene **2 salidas** para cada muestra: `[TOTALDEMAND, RRP]`.  \n",
        "- La pérdida `mse` se calcula sobre ambas dimensiones (Keras hace la media de los errores en los 2 outputs).  \n",
        "- Al final se hace la inversa del escalado para comparar los pares `[Demanda, RRP]` reales vs. predichos.  \n",
        "\n",
        "**interpretación de resultados**\n",
        "\n",
        "**Multi-Output Single-Step**  \n",
        "   - **Datos:** Igual que el caso anterior, pero ahora la red predice simultáneamente dos salidas: [TOTALDEMAND, RRP].  \n",
        "   - **Resultados:**  \n",
        "     - Las predicciones para TOTALDEMAND son muy similares a las obtenidas en el modelo multivariado single-step.  \n",
        "     - Para RRP, se observa un error moderado (por ejemplo, Pred: 132.97 vs. Real: 147.96 en el primer ejemplo), lo cual podría requerir ajustes o más datos para mejorar la precisión.\n",
        "\n",
        "\n",
        "---\n"
      ],
      "metadata": {
        "id": "Yhbr9CeitOMo"
      }
    },
    {
      "cell_type": "code",
      "source": [
        "# Celda 3: MULTIVARIADO + MULTI-STEP\n",
        "# 2 features de entrada (Demanda, RRP) -> predecir 3 pasos futuros de 'TOTALDEMAND'.\n",
        "# vamos a usar **2 features** de entrada (`TOTALDEMAND`, `RRP`) y predecir **3 pasos futuros** de `TOTALDEMAND`.\n",
        "# (Podríamos extenderlo a predecir también 3 pasos de `RRP` si quisieramos *multi-output multi-step*, cambiando la forma de la y)\n",
        "\n",
        "df_mvmst = df_all[['TOTALDEMAND','RRP']].copy()\n",
        "\n",
        "scaler_mvmst = StandardScaler()\n",
        "data_mvmst_scaled = scaler_mvmst.fit_transform(df_mvmst.values)  # shape (n_samples, 2)\n",
        "\n",
        "def split_multivariate_mstep(sequence, n_steps_in=48, n_steps_out=3):\n",
        "    \"\"\"\n",
        "    sequence: (n_samples, 2) con [Demanda, RRP].\n",
        "    n_steps_in: ventana de entrada.\n",
        "    n_steps_out: pasos futuros a predecir.\n",
        "    return: X con shape (muestras, n_steps_in, 2),\n",
        "            y con shape (muestras, n_steps_out).\n",
        "            (Aquí solo predecimos la col 0 => Demanda)\n",
        "    \"\"\"\n",
        "    X, y = [], []\n",
        "    for i in range(len(sequence)):\n",
        "        in_end = i + n_steps_in\n",
        "        out_end = in_end + n_steps_out\n",
        "        if out_end > len(sequence):\n",
        "            break\n",
        "        seq_x = sequence[i:in_end, :]  # [n_steps_in, 2]\n",
        "        seq_y = sequence[in_end:out_end, 0]  # [n_steps_out] => solo demanda\n",
        "        X.append(seq_x)\n",
        "        y.append(seq_y)\n",
        "    return np.array(X), np.array(y)\n",
        "\n",
        "X_mvmst, y_mvmst = split_multivariate_mstep(data_mvmst_scaled, n_steps_in=48, n_steps_out=3)\n",
        "print(\"Shape X_mvmst:\", X_mvmst.shape, \"| Shape y_mvmst:\", y_mvmst.shape)\n",
        "\n",
        "train_size = int(len(X_mvmst)*0.70)\n",
        "val_size = int(len(X_mvmst)*0.15)\n",
        "X_train_mvmst = X_mvmst[:train_size]\n",
        "y_train_mvmst = y_mvmst[:train_size]\n",
        "X_val_mvmst = X_mvmst[train_size:train_size+val_size]\n",
        "y_val_mvmst = y_mvmst[train_size:train_size+val_size]\n",
        "X_test_mvmst = X_mvmst[train_size+val_size:]\n",
        "y_test_mvmst = y_mvmst[train_size+val_size:]\n",
        "\n",
        "model_mvmst = Sequential()\n",
        "model_mvmst.add(Conv1D(filters=32, kernel_size=3, activation='relu', input_shape=(48, 2)))\n",
        "model_mvmst.add(MaxPooling1D(pool_size=2))\n",
        "model_mvmst.add(Flatten())\n",
        "model_mvmst.add(Dense(64, activation='relu'))\n",
        "# Salida de 3 neuronas (3 pasos futuros de demanda)\n",
        "model_mvmst.add(Dense(3))\n",
        "\n",
        "model_mvmst.compile(optimizer='adam', loss='mse', metrics=['mae'])\n",
        "early_stop_mvmst = EarlyStopping(monitor='val_loss', patience=3, restore_best_weights=True)\n",
        "\n",
        "history_mvmst = model_mvmst.fit(\n",
        "    X_train_mvmst, y_train_mvmst,\n",
        "    validation_data=(X_val_mvmst, y_val_mvmst),\n",
        "    epochs=20, batch_size=64,\n",
        "    callbacks=[early_stop_mvmst],\n",
        "    verbose=1\n",
        ")\n",
        "\n",
        "mse_mvmst, mae_mvmst = model_mvmst.evaluate(X_test_mvmst, y_test_mvmst, verbose=0)\n",
        "print(\"Test MSE (multiv + multi-step):\", mse_mvmst, \"| Test MAE:\", mae_mvmst)\n",
        "\n",
        "# Predicciones\n",
        "y_pred_mvmst = model_mvmst.predict(X_test_mvmst)\n",
        "\n",
        "# Desescalar (3 pasos). Cada fila de y_pred_mvmst => [demanda t+1, t+2, t+3] en escala normalizada.\n",
        "# Invertimos cada pred \"fila\" -> [demanda, 0], [demanda, 0], etc., o un approach vectorial:\n",
        "y_pred_inv_mvmst = []\n",
        "y_test_inv_mvmst = []\n",
        "\n",
        "for i in range(len(y_pred_mvmst)):\n",
        "    row_pred = []\n",
        "    row_test = []\n",
        "    for step_idx in range(3):\n",
        "        # Valor predicho (demanda), reconstruimos con [demanda, 0]\n",
        "        temp_pred = np.array([y_pred_mvmst[i][step_idx], 0]).reshape(1, -1)\n",
        "        inv_pred = scaler_mvmst.inverse_transform(temp_pred)[0, 0]\n",
        "        row_pred.append(inv_pred)\n",
        "\n",
        "        # Valor real\n",
        "        temp_real = np.array([y_test_mvmst[i][step_idx], 0]).reshape(1, -1)\n",
        "        inv_real = scaler_mvmst.inverse_transform(temp_real)[0, 0]\n",
        "        row_test.append(inv_real)\n",
        "\n",
        "    y_pred_inv_mvmst.append(row_pred)\n",
        "    y_test_inv_mvmst.append(row_test)\n",
        "\n",
        "print(\"\\nEjemplo predicciones (3 pasos) vs real (desescalado):\")\n",
        "for i in range(3):\n",
        "    print(f\"Pred: {y_pred_inv_mvmst[i]} | Real: {y_test_inv_mvmst[i]}\")"
      ],
      "metadata": {
        "colab": {
          "base_uri": "https://localhost:8080/"
        },
        "id": "YOizTj90tRtU",
        "outputId": "ad4524fa-aa53-4376-fb7e-2c52d5af9c56"
      },
      "execution_count": 16,
      "outputs": [
        {
          "output_type": "stream",
          "name": "stdout",
          "text": [
            "Shape X_mvmst: (248542, 48, 2) | Shape y_mvmst: (248542, 3)\n",
            "Epoch 1/20\n"
          ]
        },
        {
          "output_type": "stream",
          "name": "stderr",
          "text": [
            "/usr/local/lib/python3.11/dist-packages/keras/src/layers/convolutional/base_conv.py:107: UserWarning: Do not pass an `input_shape`/`input_dim` argument to a layer. When using Sequential models, prefer using an `Input(shape)` object as the first layer in the model instead.\n",
            "  super().__init__(activity_regularizer=activity_regularizer, **kwargs)\n"
          ]
        },
        {
          "output_type": "stream",
          "name": "stdout",
          "text": [
            "\u001b[1m2719/2719\u001b[0m \u001b[32m━━━━━━━━━━━━━━━━━━━━\u001b[0m\u001b[37m\u001b[0m \u001b[1m12s\u001b[0m 4ms/step - loss: 0.0702 - mae: 0.1458 - val_loss: 0.0061 - val_mae: 0.0575\n",
            "Epoch 2/20\n",
            "\u001b[1m2719/2719\u001b[0m \u001b[32m━━━━━━━━━━━━━━━━━━━━\u001b[0m\u001b[37m\u001b[0m \u001b[1m7s\u001b[0m 3ms/step - loss: 0.0102 - mae: 0.0708 - val_loss: 0.0044 - val_mae: 0.0500\n",
            "Epoch 3/20\n",
            "\u001b[1m2719/2719\u001b[0m \u001b[32m━━━━━━━━━━━━━━━━━━━━\u001b[0m\u001b[37m\u001b[0m \u001b[1m7s\u001b[0m 3ms/step - loss: 0.0086 - mae: 0.0659 - val_loss: 0.0049 - val_mae: 0.0538\n",
            "Epoch 4/20\n",
            "\u001b[1m2719/2719\u001b[0m \u001b[32m━━━━━━━━━━━━━━━━━━━━\u001b[0m\u001b[37m\u001b[0m \u001b[1m7s\u001b[0m 3ms/step - loss: 0.0076 - mae: 0.0623 - val_loss: 0.0041 - val_mae: 0.0476\n",
            "Epoch 5/20\n",
            "\u001b[1m2719/2719\u001b[0m \u001b[32m━━━━━━━━━━━━━━━━━━━━\u001b[0m\u001b[37m\u001b[0m \u001b[1m7s\u001b[0m 3ms/step - loss: 0.0074 - mae: 0.0606 - val_loss: 0.0055 - val_mae: 0.0569\n",
            "Epoch 6/20\n",
            "\u001b[1m2719/2719\u001b[0m \u001b[32m━━━━━━━━━━━━━━━━━━━━\u001b[0m\u001b[37m\u001b[0m \u001b[1m7s\u001b[0m 3ms/step - loss: 0.0068 - mae: 0.0587 - val_loss: 0.0040 - val_mae: 0.0473\n",
            "Epoch 7/20\n",
            "\u001b[1m2719/2719\u001b[0m \u001b[32m━━━━━━━━━━━━━━━━━━━━\u001b[0m\u001b[37m\u001b[0m \u001b[1m7s\u001b[0m 3ms/step - loss: 0.0068 - mae: 0.0580 - val_loss: 0.0039 - val_mae: 0.0471\n",
            "Epoch 8/20\n",
            "\u001b[1m2719/2719\u001b[0m \u001b[32m━━━━━━━━━━━━━━━━━━━━\u001b[0m\u001b[37m\u001b[0m \u001b[1m7s\u001b[0m 3ms/step - loss: 0.0061 - mae: 0.0562 - val_loss: 0.0041 - val_mae: 0.0469\n",
            "Epoch 9/20\n",
            "\u001b[1m2719/2719\u001b[0m \u001b[32m━━━━━━━━━━━━━━━━━━━━\u001b[0m\u001b[37m\u001b[0m \u001b[1m7s\u001b[0m 3ms/step - loss: 0.0061 - mae: 0.0559 - val_loss: 0.0037 - val_mae: 0.0457\n",
            "Epoch 10/20\n",
            "\u001b[1m2719/2719\u001b[0m \u001b[32m━━━━━━━━━━━━━━━━━━━━\u001b[0m\u001b[37m\u001b[0m \u001b[1m7s\u001b[0m 3ms/step - loss: 0.0060 - mae: 0.0555 - val_loss: 0.0038 - val_mae: 0.0460\n",
            "Epoch 11/20\n",
            "\u001b[1m2719/2719\u001b[0m \u001b[32m━━━━━━━━━━━━━━━━━━━━\u001b[0m\u001b[37m\u001b[0m \u001b[1m7s\u001b[0m 3ms/step - loss: 0.0060 - mae: 0.0552 - val_loss: 0.0039 - val_mae: 0.0467\n",
            "Epoch 12/20\n",
            "\u001b[1m2719/2719\u001b[0m \u001b[32m━━━━━━━━━━━━━━━━━━━━\u001b[0m\u001b[37m\u001b[0m \u001b[1m7s\u001b[0m 3ms/step - loss: 0.0058 - mae: 0.0545 - val_loss: 0.0040 - val_mae: 0.0473\n",
            "Test MSE (multiv + multi-step): 0.004693224094808102 | Test MAE: 0.05131297558546066\n",
            "\u001b[1m1166/1166\u001b[0m \u001b[32m━━━━━━━━━━━━━━━━━━━━\u001b[0m\u001b[37m\u001b[0m \u001b[1m2s\u001b[0m 1ms/step\n",
            "\n",
            "Ejemplo predicciones (3 pasos) vs real (desescalado):\n",
            "Pred: [8297.63228716826, 8331.80719195398, 8367.939625637946] | Real: [8323.23, 8454.73, 8545.24]\n",
            "Pred: [8373.250732351496, 8416.814215716291, 8475.038977688544] | Real: [8454.73, 8545.24, 8684.97]\n",
            "Pred: [8495.647611034645, 8528.847804147685, 8573.767414687758] | Real: [8545.24, 8684.97, 8752.12]\n"
          ]
        }
      ]
    },
    {
      "cell_type": "markdown",
      "source": [
        "- Aquí combinamos *multivariado* (2 features de entrada) con *multi-step* (3 pasos de salida).  \n",
        "- La CNN produce un vector de 3 valores para cada muestra, que representan la demanda en t+1, t+2, t+3.  \n",
        "- En el desescalado, reconstruimos cada valor con `[valor_predicho, 0]` para usar `inverse_transform`. Se hace en un bucle para cada uno de los 3 pasos.\n",
        "\n",
        "**interpretacion de resultados**\n",
        "\n",
        "**Multivariado + Multi-Step**  \n",
        "   - **Datos:** Se utilizan 2 features de entrada para ventanas de 48 pasos y se predicen 3 pasos futuros de TOTALDEMAND.  \n",
        "   - **Resultados:**  \n",
        "     - La predicción de múltiples pasos muestra que el error tiende a aumentar ligeramente a medida que se predice más lejos en el tiempo (por ejemplo, en el primer ejemplo, la diferencia crece de 25 MW al primer paso hasta casi 80 MW en el tercer paso).  \n",
        "     - Esto segun investigamos es típico en  multi-step y sugiere que, si se requiere mayor precisión en pasos futuros, podriamos usar técnicas como la iteración recursiva.\n",
        "\n"
      ],
      "metadata": {
        "id": "xcy72tnNtVgo"
      }
    },
    {
      "cell_type": "markdown",
      "source": [
        "**Conclusión:**  \n",
        "Las técnicas  (multivariado single-step, multi-output single-step y multivariado + multi-step) muestran un desempeño razonable, con errores que se mantienen en rangos aceptables para la aplicación.  \n"
      ],
      "metadata": {
        "id": "D7TbpQ_ewAWs"
      }
    }
  ],
  "metadata": {
    "kernelspec": {
      "display_name": "Python 3",
      "name": "python3"
    },
    "language_info": {
      "codemirror_mode": {
        "name": "ipython",
        "version": 3
      },
      "file_extension": ".py",
      "mimetype": "text/x-python",
      "name": "python",
      "nbconvert_exporter": "python",
      "pygments_lexer": "ipython3",
      "version": "3.10.15"
    },
    "colab": {
      "provenance": [],
      "machine_shape": "hm",
      "gpuType": "A100"
    },
    "accelerator": "GPU"
  },
  "nbformat": 4,
  "nbformat_minor": 0
}
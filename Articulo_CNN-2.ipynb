{
  "cells": [
    {
      "cell_type": "markdown",
      "metadata": {},
      "source": [
        "# CNN para Pronóstico de Series Temporales\n",
        "\n",
        "Este notebook implementa una Red Neuronal Convolucional (CNN) aplicada al pronóstico de series temporales. Se toma como referencia el artículo:\n",
        "\n",
        "**Deng, Q., et al. \"Short-Term Load Forecasting Based on Deep Convolutional Neural Networks and Temporal Attention Mechanism.\" IEEE Transactions on Smart Grid, 2020.**\n",
        "\n",
        "El artículo presenta un enfoque en el que se utilizan CNN para capturar patrones locales en los datos temporales, mejorando la precisión en la predicción a corto plazo comparado con métodos tradicionales. A continuación se implementa un ejemplo práctico con datos sintéticos."
      ]
    },
    {
      "cell_type": "markdown",
      "metadata": {},
      "source": [
        "## Discusión del Artículo Científico\n",
        "\n",
        "El artículo de Deng et al. (2020) destaca los siguientes puntos clave:\n",
        "\n",
        "- **Captura de Patrones Locales:** Las CNN detectan características locales en las series temporales, lo que es crucial para modelar la dinámica de datos.\n",
        "- **Mejora en la Precisión:** La extracción de características relevantes y la reducción de dimensionalidad permiten obtener un modelo con menor error en la predicción.\n",
        "- **Interpretabilidad:** La incorporación de mecanismos de atención temporal ayuda a identificar las partes más influyentes de la serie para la predicción, ofreciendo mayor interpretabilidad del modelo.\n",
        "\n",
        "Esta discusión respalda la implementación siguiente, donde se utiliza un conjunto de datos sintético para demostrar la aplicación de estas técnicas."
      ]
    },
    {
      "cell_type": "markdown",
      "metadata": {},
      "source": [
        "## Objetivos del Notebook\n",
        "\n",
        "- Demostrar la aplicación de CNN en el pronóstico de series temporales.\n",
        "- Implementar y evaluar un modelo CNN sobre datos sintéticos.\n",
        "- Comparar los resultados obtenidos con la discusión presentada en el artículo científico."
      ]
    },
    {
      "cell_type": "code",
      "execution_count": null,
      "metadata": {},
      "outputs": [],
      "source": [
        "import numpy as np\n",
        "import matplotlib.pyplot as plt\n",
        "import tensorflow as tf\n",
        "from tensorflow.keras.models import Sequential\n",
        "from tensorflow.keras.layers import Conv1D, MaxPooling1D, Flatten, Dense\n",
        "from sklearn.model_selection import train_test_split\n",
        "from sklearn.metrics import mean_squared_error"
      ]
    },
    {
      "cell_type": "markdown",
      "metadata": {},
      "source": [
        "## Generación de Datos\n",
        "\n",
        "Se genera una serie temporal sintética a partir de una función seno con la adición de ruido aleatorio para simular variaciones en los datos."
      ]
    },
    {
      "cell_type": "code",
      "execution_count": null,
      "metadata": {},
      "outputs": [],
      "source": [
        "np.random.seed(0)\n",
        "t = np.arange(0, 100, 0.1)\n",
        "sinusoid = np.sin(0.1 * t)\n",
        "noise = np.random.normal(0, 0.1, len(t))\n",
        "time_series = sinusoid + noise\n",
        "\n",
        "plt.figure(figsize=(12, 6))\n",
        "plt.plot(t, time_series)\n",
        "plt.title('Serie Temporal Sintética: Onda Senoidal con Ruido')\n",
        "plt.xlabel('Tiempo')\n",
        "plt.ylabel('Valor')\n",
        "plt.grid(True)\n",
        "plt.show()"
      ]
    },
    {
      "cell_type": "markdown",
      "metadata": {},
      "source": [
        "## Preparación de Datos\n",
        "\n",
        "Se crean secuencias de 10 pasos consecutivos que servirán como entrada para predecir el siguiente valor en la serie utilizando el enfoque de ventana deslizante."
      ]
    },
    {
      "cell_type": "code",
      "execution_count": null,
      "metadata": {},
      "outputs": [],
      "source": [
        "n_steps = 10\n",
        "X, y = [], []\n",
        "for i in range(len(time_series) - n_steps):\n",
        "    X.append(time_series[i:i+n_steps])\n",
        "    y.append(time_series[i+n_steps])\n",
        "X = np.array(X).reshape(-1, n_steps, 1)\n",
        "y = np.array(y)\n",
        "\n",
        "X_train, X_test, y_train, y_test = train_test_split(X, y, test_size=0.2, random_state=42)\n",
        "\n",
        "print(f'Forma del conjunto de entrenamiento: X_train={X_train.shape}, y_train={y_train.shape}')\n",
        "print(f'Forma del conjunto de prueba: X_test={X_test.shape}, y_test={y_test.shape}')"
      ]
    },
    {
      "cell_type": "markdown",
      "metadata": {},
      "source": [
        "## Construcción del Modelo CNN\n",
        "\n",
        "Se define un modelo CNN que consta de una capa convolucional, seguida de una capa de max pooling, una capa de aplanamiento y dos capas densas. Esta arquitectura permite capturar los patrones locales en la serie temporal y realizar la regresión del valor siguiente."
      ]
    },
    {
      "cell_type": "code",
      "execution_count": null,
      "metadata": {},
      "outputs": [],
      "source": [
        "model = Sequential([\n",
        "    Conv1D(filters=64, kernel_size=3, activation='relu', input_shape=(n_steps, 1)),\n",
        "    MaxPooling1D(pool_size=2),\n",
        "    Flatten(),\n",
        "    Dense(50, activation='relu'),\n",
        "    Dense(1)\n",
        "])\n",
        "\n",
        "model.compile(optimizer='adam', loss='mse')\n",
        "model.summary()"
      ]
    },
    {
      "cell_type": "markdown",
      "metadata": {},
      "source": [
        "## Entrenamiento del Modelo\n",
        "\n",
        "El modelo se entrena durante 50 épocas con un tamaño de batch de 16, utilizando el conjunto de validación para monitorear el desempeño durante el entrenamiento."
      ]
    },
    {
      "cell_type": "code",
      "execution_count": null,
      "metadata": {},
      "outputs": [],
      "source": [
        "history = model.fit(\n",
        "    X_train, y_train,\n",
        "    epochs=50,\n",
        "    batch_size=16,\n",
        "    validation_data=(X_test, y_test),\n",
        "    verbose=1\n",
        ")\n",
        "\n",
        "plt.figure(figsize=(12, 6))\n",
        "plt.plot(history.history['loss'], label='Pérdida de Entrenamiento')\n",
        "plt.plot(history.history['val_loss'], label='Pérdida de Validación')\n",
        "plt.title('Historial de Entrenamiento del Modelo')\n",
        "plt.xlabel('Época')\n",
        "plt.ylabel('Pérdida (MSE)')\n",
        "plt.legend()\n",
        "plt.grid(True)\n",
        "plt.show()"
      ]
    },
    {
      "cell_type": "markdown",
      "metadata": {},
      "source": [
        "## Evaluación del Modelo\n",
        "\n",
        "Se evalúa el desempeño del modelo en el conjunto de prueba comparando las predicciones con los datos reales y calculando el RMSE (raíz del error cuadrático medio)."
      ]
    },
    {
      "cell_type": "code",
      "execution_count": null,
      "metadata": {},
      "outputs": [],
      "source": [
        "y_pred = model.predict(X_test)\n",
        "rmse = np.sqrt(mean_squared_error(y_test, y_pred))\n",
        "print(f'RMSE en el conjunto de prueba: {rmse}')\n",
        "\n",
        "plt.figure(figsize=(12, 6))\n",
        "plt.plot(y_test, label='Datos reales', marker='o')\n",
        "plt.plot(y_pred, label='Pronóstico', marker='o')\n",
        "plt.xlabel('Índice de muestra')\n",
        "plt.ylabel('Valor')\n",
        "plt.title('Comparación: Datos Reales vs Predicción')\n",
        "plt.legend()\n",
        "plt.grid(True)\n",
        "plt.show()"
      ]
    },
    {
      "cell_type": "markdown",
      "metadata": {},
      "source": [
        "## Pronósticos Futuros\n",
        "\n",
        "Utilizando el modelo entrenado, se realizan predicciones para 50 pasos futuros a partir de la última secuencia del conjunto de prueba."
      ]
    },
    {
      "cell_type": "code",
      "execution_count": null,
      "metadata": {},
      "outputs": [],
      "source": [
        "future_steps = 50\n",
        "future_predictions = []\n",
        "last_sequence = X_test[-1].reshape(1, n_steps, 1)\n",
        "\n",
        "for _ in range(future_steps):\n",
        "    next_pred = model.predict(last_sequence)[0][0]\n",
        "    future_predictions.append(next_pred)\n",
        "    last_sequence = np.roll(last_sequence, -1, axis=1)\n",
        "    last_sequence[0, -1, 0] = next_pred\n",
        "\n",
        "plt.figure(figsize=(12, 6))\n",
        "plt.plot(time_series, label='Serie Temporal Original')\n",
        "plt.plot(range(len(time_series), len(time_series) + future_steps), future_predictions, 'r--', label='Predicciones Futuras')\n",
        "plt.title('Serie Temporal con Predicciones Futuras')\n",
        "plt.xlabel('Tiempo')\n",
        "plt.ylabel('Valor')\n",
        "plt.legend()\n",
        "plt.grid(True)\n",
        "plt.show()"
      ]
    },
    {
      "cell_type": "markdown",
      "metadata": {},
      "source": [
        "## Conclusiones\n",
        "\n",
        "- Las CNN son efectivas para capturar patrones locales en series temporales, lo que se refleja en un mejor desempeño en la predicción.\n",
        "- El modelo entrenado sobre datos sintéticos mostró un desempeño adecuado, evidenciado por el bajo RMSE en el conjunto de prueba.\n",
        "- La metodología descrita en el artículo respalda la aplicación de CNN en problemas de pronóstico de series temporales, permitiendo identificar características relevantes y mejorar la interpretabilidad mediante mecanismos de atención.\n",
        "\n",
        "Este notebook sienta las bases para aplicar técnicas similares en conjuntos de datos reales y comparar los resultados con los obtenidos en la literatura científica."
      ]
    }
  ],
  "metadata": {
    "kernelspec": {
      "display_name": "Python 3",
      "language": "python",
      "name": "python3"
    },
    "language_info": {
      "name": "python",
      "version": "3.8.10",
      "mimetype": "text/x-python",
      "file_extension": ".py",
      "pygments_lexer": "ipython3",
      "codemirror_mode": {
        "name": "ipython",
        "version": 3
      },
      "nbconvert_exporter": "python"
    }
  },
  "nbformat": 4,
  "nbformat_minor": 4
}
